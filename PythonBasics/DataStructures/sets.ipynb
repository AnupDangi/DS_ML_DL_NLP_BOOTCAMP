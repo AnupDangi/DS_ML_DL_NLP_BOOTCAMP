{
 "cells": [
  {
   "cell_type": "code",
   "execution_count": 2,
   "id": "56289597",
   "metadata": {},
   "outputs": [],
   "source": [
    "## sets are a built in data type in Python used to store collections of unique items.They are unordered,meaning that the elements do not follow a specific order, they are unordered\n"
   ]
  },
  {
   "cell_type": "code",
   "execution_count": 21,
   "id": "6403c527",
   "metadata": {},
   "outputs": [
    {
     "name": "stdout",
     "output_type": "stream",
     "text": [
      "<class 'set'>\n",
      "{1, 2, 3, 4, 5}\n"
     ]
    }
   ],
   "source": [
    "my_set={1,2,3,4,5}\n",
    "print(type(my_set))\n",
    "print(my_set)"
   ]
  },
  {
   "cell_type": "code",
   "execution_count": 22,
   "id": "8d93c9fb",
   "metadata": {},
   "outputs": [
    {
     "name": "stdout",
     "output_type": "stream",
     "text": [
      "{1, 2, 3, 4, 5}\n"
     ]
    }
   ],
   "source": [
    "## my empty set \n",
    "my_empty_set=set([1,2,3,4,5])\n",
    "print(my_empty_set)"
   ]
  },
  {
   "cell_type": "code",
   "execution_count": 23,
   "id": "6f016879",
   "metadata": {},
   "outputs": [
    {
     "name": "stdout",
     "output_type": "stream",
     "text": [
      "{1, 2, 3, 5}\n"
     ]
    }
   ],
   "source": [
    "## built in data type to get unique elements\n",
    "duplicate_ele={1,2,3,5,1,2,5}\n",
    "print(set(duplicate_ele))"
   ]
  },
  {
   "cell_type": "code",
   "execution_count": 24,
   "id": "8f0cdd76",
   "metadata": {},
   "outputs": [
    {
     "name": "stdout",
     "output_type": "stream",
     "text": [
      "{2, 3, 4}\n"
     ]
    }
   ],
   "source": [
    "my_set.remove(1)\n",
    "my_set.discard(5)\n",
    "print(my_set)"
   ]
  },
  {
   "cell_type": "code",
   "execution_count": 25,
   "id": "69bb1a6e",
   "metadata": {},
   "outputs": [
    {
     "name": "stdout",
     "output_type": "stream",
     "text": [
      "2\n"
     ]
    }
   ],
   "source": [
    "removed_element=my_set.pop()\n",
    "print(removed_element)\n"
   ]
  },
  {
   "cell_type": "code",
   "execution_count": 26,
   "id": "9d3b588c",
   "metadata": {},
   "outputs": [
    {
     "name": "stdout",
     "output_type": "stream",
     "text": [
      "True\n",
      "False\n"
     ]
    }
   ],
   "source": [
    "## set memebership test\n",
    "my_set={1,2,3,4,5}\n",
    "print(3 in my_set)\n",
    "print(10 in my_set)\n"
   ]
  },
  {
   "cell_type": "code",
   "execution_count": 28,
   "id": "0702a318",
   "metadata": {},
   "outputs": [
    {
     "name": "stdout",
     "output_type": "stream",
     "text": [
      "{1, 2, 3, 4, 5, 6, 7, 8, 9}\n",
      "{4, 5}\n"
     ]
    }
   ],
   "source": [
    "## mathematical operation\n",
    "set1={1,2,3,4,5}\n",
    "set2={4,5,6,7,8,9}\n",
    "\n",
    "union_set=set1.union(set2)\n",
    "print(union_set)\n",
    "\n",
    "\n",
    "## intersection\n",
    "intersection=set1.intersection(set2)\n",
    "print(intersection)"
   ]
  },
  {
   "cell_type": "code",
   "execution_count": null,
   "id": "07917f2d",
   "metadata": {},
   "outputs": [
    {
     "name": "stdout",
     "output_type": "stream",
     "text": [
      "{4, 5}\n"
     ]
    }
   ],
   "source": [
    "## shows Intersection \n",
    "set1.intersection_update(set2)\n",
    "print(set1)"
   ]
  },
  {
   "cell_type": "code",
   "execution_count": 30,
   "id": "7d66f06b",
   "metadata": {},
   "outputs": [
    {
     "data": {
      "text/plain": [
       "{6, 7, 8, 9}"
      ]
     },
     "execution_count": 30,
     "metadata": {},
     "output_type": "execute_result"
    }
   ],
   "source": [
    "set2.difference(set1)"
   ]
  },
  {
   "cell_type": "code",
   "execution_count": 31,
   "id": "34411697",
   "metadata": {},
   "outputs": [
    {
     "data": {
      "text/plain": [
       "{6, 7, 8, 9}"
      ]
     },
     "execution_count": 31,
     "metadata": {},
     "output_type": "execute_result"
    }
   ],
   "source": [
    "## symmetric difference\n",
    "\n",
    "set1.symmetric_difference(set2)"
   ]
  },
  {
   "cell_type": "code",
   "execution_count": 33,
   "id": "f2c9e3c5",
   "metadata": {},
   "outputs": [
    {
     "name": "stdout",
     "output_type": "stream",
     "text": [
      "False\n",
      "True\n"
     ]
    }
   ],
   "source": [
    "## set methods\n",
    "\n",
    "set1={1,2,3,4,5}\n",
    "set2={3,4,5}\n",
    "\n",
    "print(set1.issubset(set2))\n",
    "print(set1.issuperset(set2))"
   ]
  },
  {
   "cell_type": "code",
   "execution_count": 36,
   "id": "b4a84ff8",
   "metadata": {},
   "outputs": [
    {
     "name": "stdout",
     "output_type": "stream",
     "text": [
      "['In', 'this', 'tutorial', 'we', 'are', 'discussing', 'about', 'sets']\n"
     ]
    }
   ],
   "source": [
    "## counting unique words in a text\n",
    "\n",
    "text=\"In this tutorial we are discussing about sets\"\n",
    "words=text.split(\" \")\n",
    "print(words)\n",
    "unique_words=set(words)"
   ]
  },
  {
   "cell_type": "code",
   "execution_count": null,
   "id": "b148f821",
   "metadata": {},
   "outputs": [],
   "source": []
  }
 ],
 "metadata": {
  "kernelspec": {
   "display_name": "venv",
   "language": "python",
   "name": "python3"
  },
  "language_info": {
   "codemirror_mode": {
    "name": "ipython",
    "version": 3
   },
   "file_extension": ".py",
   "mimetype": "text/x-python",
   "name": "python",
   "nbconvert_exporter": "python",
   "pygments_lexer": "ipython3",
   "version": "3.10.0"
  }
 },
 "nbformat": 4,
 "nbformat_minor": 5
}
