{
 "cells": [
  {
   "cell_type": "code",
   "execution_count": 1,
   "id": "346eb87d",
   "metadata": {},
   "outputs": [],
   "source": [
    "def square(num):\n",
    "    return num**2\n",
    "\n"
   ]
  },
  {
   "cell_type": "code",
   "execution_count": 4,
   "id": "35a44bec",
   "metadata": {},
   "outputs": [
    {
     "name": "stdout",
     "output_type": "stream",
     "text": [
      "[1, 4, 9, 16, 25]\n"
     ]
    }
   ],
   "source": [
    "numbers=[1,2,3,4,5]\n",
    "squared_numbers=list(map(square,numbers))\n",
    "print(squared_numbers)"
   ]
  },
  {
   "cell_type": "code",
   "execution_count": 6,
   "id": "270f5202",
   "metadata": {},
   "outputs": [
    {
     "name": "stdout",
     "output_type": "stream",
     "text": [
      "[1, 4, 9, 16, 25]\n"
     ]
    }
   ],
   "source": [
    "squared_numbers_lambda=list(map(lambda x:x**2,numbers))\n",
    "print(squared_numbers_lambda)"
   ]
  },
  {
   "cell_type": "code",
   "execution_count": 11,
   "id": "b6329cc7",
   "metadata": {},
   "outputs": [
    {
     "name": "stdout",
     "output_type": "stream",
     "text": [
      "[5, 7, 9]\n"
     ]
    }
   ],
   "source": [
    "## Map multiple iterables\n",
    "\n",
    "numbers1=[1,2,3]\n",
    "numbers2=[4,5,6]\n",
    "\n",
    "added_numbers=list(map(lambda x,y:x+y,numbers1,numbers2))\n",
    "print(added_numbers)\n"
   ]
  },
  {
   "cell_type": "code",
   "execution_count": 13,
   "id": "738fd19a",
   "metadata": {},
   "outputs": [
    {
     "name": "stdout",
     "output_type": "stream",
     "text": [
      "[1, 2, 3, 4, 5]\n"
     ]
    }
   ],
   "source": [
    "## map() to convert a list of strings to integers\n",
    "\n",
    "## Use map to convert strings \n",
    "\n",
    "str_numbers=['1','2','3','4','5']\n",
    "int_numbers=list(map(lambda x:int(x),str_numbers))\n",
    "print(int_numbers)"
   ]
  },
  {
   "cell_type": "code",
   "execution_count": 15,
   "id": "92af660e",
   "metadata": {},
   "outputs": [
    {
     "name": "stdout",
     "output_type": "stream",
     "text": [
      "['APPLE', 'BANANA', 'CHERRY']\n"
     ]
    }
   ],
   "source": [
    "words=['apple','banana','cherry']\n",
    "upper_word=list(map(str.upper,words))\n",
    "print(upper_word)"
   ]
  },
  {
   "cell_type": "code",
   "execution_count": 17,
   "id": "03ee5ffc",
   "metadata": {},
   "outputs": [
    {
     "name": "stdout",
     "output_type": "stream",
     "text": [
      "['Krish', 'Anup']\n"
     ]
    }
   ],
   "source": [
    "## getname fun\n",
    "\n",
    "def get_name(person):\n",
    "    return person['name']\n",
    "\n",
    "people=[\n",
    "    {\"name\":\"Krish\",'age':32},\n",
    "    {\"name\":\"Anup\",'age':21}\n",
    "]\n",
    "\n",
    "print(list(map(get_name,people)))"
   ]
  }
 ],
 "metadata": {
  "kernelspec": {
   "display_name": "myenv",
   "language": "python",
   "name": "myenv"
  },
  "language_info": {
   "codemirror_mode": {
    "name": "ipython",
    "version": 3
   },
   "file_extension": ".py",
   "mimetype": "text/x-python",
   "name": "python",
   "nbconvert_exporter": "python",
   "pygments_lexer": "ipython3",
   "version": "3.12.9"
  }
 },
 "nbformat": 4,
 "nbformat_minor": 5
}
