{
 "cells": [
  {
   "cell_type": "code",
   "execution_count": 1,
   "id": "bc96ec01",
   "metadata": {},
   "outputs": [],
   "source": [
    "## Function is a block of code that performs a specific tasks.\n",
    "\n"
   ]
  },
  {
   "cell_type": "code",
   "execution_count": 4,
   "id": "b646102c",
   "metadata": {},
   "outputs": [
    {
     "data": {
      "text/plain": [
       "'this is a function'"
      ]
     },
     "execution_count": 4,
     "metadata": {},
     "output_type": "execute_result"
    }
   ],
   "source": [
    "## syntax\n",
    "\n",
    "def function_name(parameters):\n",
    "    \"\"\"DocString\"\"\"\n",
    "    ## Function body\n",
    "    return \"this is a function\"\n",
    "\n",
    "function_name(1)"
   ]
  },
  {
   "cell_type": "code",
   "execution_count": 7,
   "id": "419ed383",
   "metadata": {},
   "outputs": [
    {
     "name": "stdout",
     "output_type": "stream",
     "text": [
      "even\n"
     ]
    }
   ],
   "source": [
    "## Resuable block of code\n",
    "\n",
    "def even_or_odd(num):\n",
    "    \"\"\"This function finds even or odd.\"\"\"\n",
    "    \n",
    "    if num%2==0:\n",
    "        print(\"even\")\n",
    "    else:\n",
    "        print(\"odd\")\n",
    "    \n",
    "        \n",
    "even_or_odd(int(input(\"Enter the number\")))"
   ]
  },
  {
   "cell_type": "code",
   "execution_count": 26,
   "id": "c3a6f6a2",
   "metadata": {},
   "outputs": [
    {
     "data": {
      "text/plain": [
       "True"
      ]
     },
     "execution_count": 26,
     "metadata": {},
     "output_type": "execute_result"
    }
   ],
   "source": [
    "## prime \n",
    "import math\n",
    "def is_prime(num):\n",
    "    \"\"\"This function checks if a number is prime.\"\"\"\n",
    "    \n",
    "    if num <=1:\n",
    "        return False\n",
    "    for i in range(2,int(num**0.5)+1):\n",
    "        if num%i==0:\n",
    "            return False    \n",
    "    return True\n",
    "\n",
    "is_prime(int(input(\"Enter the number \")))"
   ]
  },
  {
   "cell_type": "code",
   "execution_count": 30,
   "id": "96dac688",
   "metadata": {},
   "outputs": [
    {
     "name": "stdout",
     "output_type": "stream",
     "text": [
      "1\n",
      "2\n",
      "3\n",
      "4\n"
     ]
    }
   ],
   "source": [
    "## variable length arguments\n",
    "\n",
    "## Positional and keywords arguments\n",
    " ##use ** for key value pairs ** and * for only values\n",
    "  \n",
    "def print_numbers(*krish):\n",
    "    for number in krish:\n",
    "        print(number)\n",
    "        \n",
    "print_numbers(1,2,3,4)"
   ]
  },
  {
   "cell_type": "code",
   "execution_count": 40,
   "id": "a4553c33",
   "metadata": {},
   "outputs": [
    {
     "name": "stdout",
     "output_type": "stream",
     "text": [
      "Positional Args (1, 2, 3)\n",
      "Positional Args {'name': 'Krish', 'age': 25, 'city': 'Delhi'}\n"
     ]
    }
   ],
   "source": [
    "## Positional Arguments and Keyword Arguments\n",
    "\n",
    "def print_details(*args,**kwargs):\n",
    "    for val in args:\n",
    "        print(f\"Positional Args {val}\")\n",
    "        \n",
    "    for key,value in kwargs.items():\n",
    "        print(f\"{key}:{value}\")\n",
    "        \n",
    "args=(1,2,3)\n",
    "kwargs={\"name\":\"Krish\",\"age\":25,\"city\":\"Delhi\"}\n",
    "print_details(args,kwargs)"
   ]
  },
  {
   "cell_type": "code",
   "execution_count": 1,
   "id": "44b009bc",
   "metadata": {},
   "outputs": [
    {
     "data": {
      "text/plain": [
       "77.0"
      ]
     },
     "execution_count": 1,
     "metadata": {},
     "output_type": "execute_result"
    }
   ],
   "source": [
    "## Function Examples\n",
    "\n",
    "## Example1 :Temperature Conversion\n",
    "\n",
    "def convert_temperature(temp,unit):\n",
    "    \"\"\"\n",
    "        This function converts temperature between Celsius and Fahrenheit\n",
    "    \"\"\"\n",
    "    if unit.lower()=='c':\n",
    "        return temp *9/5 +32 ## Celsius to Fahrenheit\n",
    "    \n",
    "    elif unit=='F':\n",
    "        return (temp-32)*5/9 ## fahrenheit to celsius\n",
    "    \n",
    "    else:\n",
    "        return None\n",
    "\n",
    "\n",
    "convert_temperature(25,'C')"
   ]
  },
  {
   "cell_type": "code",
   "execution_count": 5,
   "id": "68a812dd",
   "metadata": {},
   "outputs": [
    {
     "name": "stdout",
     "output_type": "stream",
     "text": [
      "True\n",
      "False\n"
     ]
    }
   ],
   "source": [
    "## Example 2 Password Strength Checker\n",
    "\n",
    "def is_strong_password(password):\n",
    "    \"\"\"This function check if the password is strong or not\"\"\"\n",
    "    if len(password)<8:\n",
    "        return False\n",
    "    if not any(char.isdigit() for char in password): ## no of the character is digit checks\n",
    "        return False\n",
    "    \n",
    "    if not any(char.islower() for char in password):\n",
    "        return False\n",
    "\n",
    "    if not any(char.isupper() for char in password):\n",
    "        return False\n",
    "    \n",
    "    if not any(char in '!@#$%_+' for char in password):\n",
    "        return False\n",
    "    \n",
    "    return True\n",
    "\n",
    "\n",
    "print(is_strong_password('Hello@123'))\n",
    "print(is_strong_password(\"WeakPass\"))"
   ]
  },
  {
   "cell_type": "code",
   "execution_count": null,
   "id": "dd0ff606",
   "metadata": {},
   "outputs": [
    {
     "name": "stdout",
     "output_type": "stream",
     "text": [
      "1.6\n"
     ]
    }
   ],
   "source": [
    "def calculate_total_cost(cart):\n",
    "    total_cost=0\n",
    "    for item in cart:\n",
    "        total_cost+=item['price']*item['quantity']\n",
    "    \n",
    "    return total_cost\n",
    "cart=[\n",
    "    {'name':'Apple','price':0.5,'quantity':4},\n",
    "    {'name':'Banana','price':0.6,'quantity':5},\n",
    "    {'name':'Papaya','price':0.5,'quantity':5}\n",
    "\n",
    "]\n",
    "\n",
    "print(calculate_total_cost(cart))"
   ]
  },
  {
   "cell_type": "code",
   "execution_count": 12,
   "id": "27954d8d",
   "metadata": {},
   "outputs": [
    {
     "name": "stdout",
     "output_type": "stream",
     "text": [
      "True\n"
     ]
    }
   ],
   "source": [
    "## Check if string is palindrome or not\n",
    "\n",
    "def is_palindrome(s):\n",
    "    s=s.lower().replace(\" \",\"\")\n",
    "    return s==s[::-1]\n",
    "    \n",
    "    \n",
    "print(is_palindrome(\"A man a plan a canal Panama\"))"
   ]
  },
  {
   "cell_type": "code",
   "execution_count": 2,
   "id": "8d73d575",
   "metadata": {},
   "outputs": [
    {
     "name": "stdout",
     "output_type": "stream",
     "text": [
      "120\n"
     ]
    }
   ],
   "source": [
    "## Calculate factorials of a number\n",
    "\n",
    "def factorial(num):\n",
    "    if num==0:\n",
    "        return 1\n",
    "    else:\n",
    "        return num* factorial(num-1)\n",
    "    \n",
    "print(factorial(5))"
   ]
  },
  {
   "cell_type": "code",
   "execution_count": 3,
   "id": "72e9284e",
   "metadata": {},
   "outputs": [
    {
     "name": "stdout",
     "output_type": "stream",
     "text": [
      "{'hello': 2, 'this': 1, 'is': 1, 'a': 1, 'test': 1, 'file': 1}\n"
     ]
    }
   ],
   "source": [
    "## File opearation\n",
    "\n",
    "def read_file(file_path):\n",
    "    word_count={}\n",
    "    with open(file_path,'r') as file:\n",
    "        for line in file:\n",
    "            words=line.split()\n",
    "            for word in words:\n",
    "                word=word.lower().strip('.,!?;:\"\\'') \n",
    "                word_count[word]=word_count.get(word,0)+1\n",
    "    return word_count\n",
    "\n",
    "\n",
    "filepath=\"test.txt\"\n",
    "\n",
    "word_frequency=read_file(filepath)\n",
    "print(word_frequency)\n",
    "    \n",
    "    "
   ]
  },
  {
   "cell_type": "code",
   "execution_count": 5,
   "id": "765ecdf1",
   "metadata": {},
   "outputs": [
    {
     "name": "stdout",
     "output_type": "stream",
     "text": [
      "True\n",
      "False\n"
     ]
    }
   ],
   "source": [
    "## Email validation\n",
    "import re\n",
    "\n",
    "def is_email_valid(email):\n",
    "    pattern=r'^[a-zA-Z0-9_.+-]+@[a-zA-Z0-9-]+\\.[a-zA-Z0-9-.]+$'\n",
    "    return re.match(pattern,email) is not None\n",
    "\n",
    "print(is_email_valid(\"test@example.com\"))\n",
    "print(is_email_valid(\"example.com\"))\n",
    "    "
   ]
  },
  {
   "cell_type": "code",
   "execution_count": 23,
   "id": "e65676ac",
   "metadata": {},
   "outputs": [
    {
     "name": "stdout",
     "output_type": "stream",
     "text": [
      "True\n"
     ]
    }
   ],
   "source": [
    "## Gmail verification \n",
    "\n",
    "def gmail_verify(gmail):\n",
    "    pattern=r'^[a-zA-Z0-9._%+-]+@gmail\\.com$'\n",
    "    return re.match(pattern,gmail) is not None\n",
    "\n",
    "result=gmail_verify(\"anup.hero123@gmail.com\")\n",
    "print(result)"
   ]
  },
  {
   "cell_type": "code",
   "execution_count": null,
   "id": "fe51bc37",
   "metadata": {},
   "outputs": [
    {
     "name": "stdout",
     "output_type": "stream",
     "text": [
      "True\n"
     ]
    }
   ],
   "source": [
    "def phone_verify(phoneno):\n",
    "    pattern=r'^\\d{10}$'\n",
    "    return re.match(pattern,phoneno) is not None\n",
    "\n",
    "print(phone_verify(\"849328982\"))\n"
   ]
  },
  {
   "cell_type": "code",
   "execution_count": null,
   "id": "faa72ebd",
   "metadata": {},
   "outputs": [
    {
     "name": "stdout",
     "output_type": "stream",
     "text": [
      "False\n"
     ]
    }
   ],
   "source": [
    "def verify_indian_no(phone):\n",
    "    pattern=r'^(\\+91|91|0)?[6-9]\\d{9}$'\n",
    "    return re.match(pattern,phone) is not None\n",
    "\n",
    "print(verify_indian_no(\"+918073133929\"))"
   ]
  }
 ],
 "metadata": {
  "kernelspec": {
   "display_name": "myenv",
   "language": "python",
   "name": "myenv"
  },
  "language_info": {
   "codemirror_mode": {
    "name": "ipython",
    "version": 3
   },
   "file_extension": ".py",
   "mimetype": "text/x-python",
   "name": "python",
   "nbconvert_exporter": "python",
   "pygments_lexer": "ipython3",
   "version": "3.12.9"
  }
 },
 "nbformat": 4,
 "nbformat_minor": 5
}
