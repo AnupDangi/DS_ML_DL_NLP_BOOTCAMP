{
 "cells": [
  {
   "cell_type": "code",
   "execution_count": null,
   "id": "494c5b9c",
   "metadata": {},
   "outputs": [
    {
     "name": "stdout",
     "output_type": "stream",
     "text": [
      "<class 'list'>\n",
      "<class 'tuple'>\n"
     ]
    }
   ],
   "source": [
    "## tuples are ordered collectiosn of items that are immutable. They are similar to lists, but their immutability \n",
    "\n",
    "## creating a tuple\n",
    "empty_tuple=list()\n",
    "print(type(empty_tuple))\n",
    "tupl=tuple()\n",
    "print(type(tupl))"
   ]
  },
  {
   "cell_type": "code",
   "execution_count": 7,
   "id": "e645042b",
   "metadata": {},
   "outputs": [
    {
     "name": "stdout",
     "output_type": "stream",
     "text": [
      "<class 'tuple'>\n",
      "(1, 2, 3, 4, 5)\n"
     ]
    }
   ],
   "source": [
    "## \n",
    "\n",
    "tuplnumbers=tuple([1,2,3,4,5])\n",
    "print(type(tuplnumbers))\n",
    "print((tuplnumbers))\n"
   ]
  },
  {
   "cell_type": "code",
   "execution_count": 10,
   "id": "f9ad5b2e",
   "metadata": {},
   "outputs": [
    {
     "name": "stdout",
     "output_type": "stream",
     "text": [
      "[1, 2, 3, 4, 5]\n"
     ]
    }
   ],
   "source": [
    "list((1,2,3,4,5))\n",
    "\n",
    "conv=list(tuplnumbers)\n",
    "print(conv)"
   ]
  },
  {
   "cell_type": "code",
   "execution_count": 12,
   "id": "06538ff1",
   "metadata": {},
   "outputs": [
    {
     "name": "stdout",
     "output_type": "stream",
     "text": [
      "(1, 2, 3, 4, 5, 'H', 'e', 'l', 'l', 'o')\n"
     ]
    }
   ],
   "source": [
    "## tuple operations\n",
    "\n",
    "concatenation_tuple=tuplnumbers+ tuple(\"Hello\")\n",
    "print(concatenation_tuple)"
   ]
  },
  {
   "cell_type": "code",
   "execution_count": 13,
   "id": "d4283e49",
   "metadata": {},
   "outputs": [
    {
     "name": "stdout",
     "output_type": "stream",
     "text": [
      "(1, 2, 3, 4, 5, 1, 2, 3, 4, 5, 1, 2, 3, 4, 5)\n"
     ]
    }
   ],
   "source": [
    "## multiplication\n",
    "\n",
    "multi=tuplnumbers*3\n",
    "print(multi)"
   ]
  },
  {
   "cell_type": "code",
   "execution_count": 19,
   "id": "edad0be8",
   "metadata": {},
   "outputs": [
    {
     "name": "stdout",
     "output_type": "stream",
     "text": [
      "(1, 2, 3, 2, 4, 5)\n"
     ]
    },
    {
     "data": {
      "text/plain": [
       "2"
      ]
     },
     "execution_count": 19,
     "metadata": {},
     "output_type": "execute_result"
    }
   ],
   "source": [
    "## immutable nature of tuples\n",
    "\n",
    "tuplnumbers=(1,2,3,2,4,5)\n",
    "print(tuplnumbers)\n",
    "tuplnumbers.count(2)"
   ]
  },
  {
   "cell_type": "code",
   "execution_count": 21,
   "id": "df193670",
   "metadata": {},
   "outputs": [
    {
     "name": "stdout",
     "output_type": "stream",
     "text": [
      "2\n"
     ]
    }
   ],
   "source": [
    "## indexing\n",
    "\n",
    "print(tuplnumbers.index(3))"
   ]
  },
  {
   "cell_type": "code",
   "execution_count": null,
   "id": "ff543dd5",
   "metadata": {},
   "outputs": [
    {
     "name": "stdout",
     "output_type": "stream",
     "text": [
      "1 2 3 Hello\n"
     ]
    }
   ],
   "source": [
    "## unpacking a tuple\n",
    "packed_tuple=1,2,3 ,\"Hello\"\n",
    "a,b,c,d=packed_tuple\n",
    "print(a,b,c,d)"
   ]
  },
  {
   "cell_type": "code",
   "execution_count": 26,
   "id": "01dee0ed",
   "metadata": {},
   "outputs": [
    {
     "name": "stdout",
     "output_type": "stream",
     "text": [
      "1 [2, 3, 4, 5] 6\n"
     ]
    }
   ],
   "source": [
    "## unpacking with *\n",
    "\n",
    "numbers=(1,2,3,4,5,6)\n",
    "first,*middle,last=numbers\n",
    "print(first,middle,last)"
   ]
  },
  {
   "cell_type": "code",
   "execution_count": 29,
   "id": "808c9e86",
   "metadata": {},
   "outputs": [
    {
     "name": "stdout",
     "output_type": "stream",
     "text": [
      "[[1, 2, 3, 4, 5], [6, 7, 8, 9, 10]]\n",
      "[7, 8, 9, 10]\n"
     ]
    }
   ],
   "source": [
    "lst=[[1,2,3,4,5],[6,7,8,9,10]]\n",
    "print(lst)\n",
    "print(lst[1][1:])"
   ]
  },
  {
   "cell_type": "code",
   "execution_count": null,
   "id": "6492d3da",
   "metadata": {},
   "outputs": [
    {
     "name": "stdout",
     "output_type": "stream",
     "text": [
      "((1, 2, 3, 4), ('Hello', 1, 2, 3))\n",
      "(1, 2, 3, 4)\n"
     ]
    }
   ],
   "source": [
    "nested_tuples=((1,2,3,4),(\"Hello\",1,2,3))\n",
    "print(nested_tuples)\n",
    "print(nested_tuples[0])"
   ]
  },
  {
   "cell_type": "code",
   "execution_count": 32,
   "id": "7b98ef7d",
   "metadata": {},
   "outputs": [
    {
     "name": "stdout",
     "output_type": "stream",
     "text": [
      "1+2+3+4+\n",
      "\n",
      "Hello+1+2+3+\n",
      "\n"
     ]
    }
   ],
   "source": [
    "## Iteration over nested tuples\n",
    "for nested_tuple in nested_tuples:\n",
    "    for item in nested_tuple:\n",
    "        print(item,end=\"+\")    \n",
    "    print(\"\\n\") "
   ]
  },
  {
   "cell_type": "code",
   "execution_count": null,
   "id": "0b8c90e0",
   "metadata": {},
   "outputs": [],
   "source": []
  }
 ],
 "metadata": {
  "kernelspec": {
   "display_name": "myenv",
   "language": "python",
   "name": "myenv"
  },
  "language_info": {
   "codemirror_mode": {
    "name": "ipython",
    "version": 3
   },
   "file_extension": ".py",
   "mimetype": "text/x-python",
   "name": "python",
   "nbconvert_exporter": "python",
   "pygments_lexer": "ipython3",
   "version": "3.12.9"
  }
 },
 "nbformat": 4,
 "nbformat_minor": 5
}
