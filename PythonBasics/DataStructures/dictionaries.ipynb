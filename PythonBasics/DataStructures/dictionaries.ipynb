{
 "cells": [
  {
   "cell_type": "code",
   "execution_count": 2,
   "id": "e16331e5",
   "metadata": {},
   "outputs": [
    {
     "name": "stdout",
     "output_type": "stream",
     "text": [
      "{}\n"
     ]
    }
   ],
   "source": [
    "## Introduction of Dictionaries\n",
    "\n",
    "## dicrtionary is an unordered collection of key-value pairs\n",
    "## keys must be unique and immutable (e.g., strings, numbers, or tuples), while values can be of any type\n",
    "\n",
    "\n",
    "empty_dict={}\n",
    "print(empty_dict)"
   ]
  },
  {
   "cell_type": "code",
   "execution_count": 3,
   "id": "1942c187",
   "metadata": {},
   "outputs": [
    {
     "name": "stdout",
     "output_type": "stream",
     "text": [
      "<class 'dict'>\n"
     ]
    }
   ],
   "source": [
    "print(type(empty_dict))"
   ]
  },
  {
   "cell_type": "code",
   "execution_count": 17,
   "id": "27dcfc29",
   "metadata": {},
   "outputs": [
    {
     "name": "stdout",
     "output_type": "stream",
     "text": [
      "{'name': 'Anup', 'age': '21', 'grade': 'A+'}\n"
     ]
    }
   ],
   "source": [
    "students={\"name\":\"Anup\",\"age\":\"21\",\"grade\":\"A+\"}\n",
    "print(students)"
   ]
  },
  {
   "cell_type": "code",
   "execution_count": 18,
   "id": "0c78e9b4",
   "metadata": {},
   "outputs": [
    {
     "name": "stdout",
     "output_type": "stream",
     "text": [
      "Anup\n",
      "21\n",
      "A+\n"
     ]
    }
   ],
   "source": [
    "## single key is always used\n",
    "## Accessing dictionary element\n",
    "print(students[\"name\"])\n",
    "print(students[\"age\"])\n",
    "print(students[\"grade\"])"
   ]
  },
  {
   "cell_type": "code",
   "execution_count": 19,
   "id": "6bb421ab",
   "metadata": {},
   "outputs": [
    {
     "name": "stdout",
     "output_type": "stream",
     "text": [
      "21\n",
      "{'name': 'Anup', 'age': '21', 'grade': 'A+'}\n"
     ]
    }
   ],
   "source": [
    "## Accessing using get() method\n",
    "print(students.get(\"age\"))\n",
    "print(students)"
   ]
  },
  {
   "cell_type": "code",
   "execution_count": 24,
   "id": "daf80ac1",
   "metadata": {},
   "outputs": [
    {
     "name": "stdout",
     "output_type": "stream",
     "text": [
      "{'name': 'Anup', 'age': '23', 'grade': 'A+', 'address': 'Nepal'}\n"
     ]
    }
   ],
   "source": [
    "## modifying Dictionary elements\n",
    "## dictionary are mutable,so you can add,update or delete elements\n",
    "\n",
    "students[\"age\"]=\"23\"\n",
    "students[\"address\"]=\"Nepal\"\n",
    "print(students)"
   ]
  },
  {
   "cell_type": "code",
   "execution_count": 25,
   "id": "76a2bdfe",
   "metadata": {},
   "outputs": [
    {
     "name": "stdout",
     "output_type": "stream",
     "text": [
      "{'name': 'Anup', 'age': '23', 'grade': 'A+'}\n"
     ]
    }
   ],
   "source": [
    "del students[\"address\"]\n",
    "print(students)"
   ]
  },
  {
   "cell_type": "code",
   "execution_count": null,
   "id": "c93f0eab",
   "metadata": {},
   "outputs": [
    {
     "name": "stdout",
     "output_type": "stream",
     "text": [
      "dict_keys(['name', 'age', 'grade'])\n",
      "dict_values(['Anup', '23', 'A+'])\n",
      "dict_items([('name', 'Anup'), ('age', '23'), ('grade', 'A+')])\n"
     ]
    }
   ],
   "source": [
    "## Dictionary methods\n",
    "\n",
    "keys=students.keys()\n",
    "print(keys)\n",
    "values=students.values()\n",
    "print(values)\n",
    "\n",
    "items=students.items() ## list of tuples\n",
    "print(items)"
   ]
  },
  {
   "cell_type": "code",
   "execution_count": null,
   "id": "f74b32b4",
   "metadata": {},
   "outputs": [
    {
     "name": "stdout",
     "output_type": "stream",
     "text": [
      "{'name': 'krish', 'age': '23', 'grade': 'A+'}\n",
      "{'name': 'krish', 'age': '23', 'grade': 'A+'}\n"
     ]
    }
   ],
   "source": [
    "## Shallow Copy it will reflect changes in both dictionaries \n",
    "students_copy=students\n",
    "print(students_copy)\n",
    "print(students)"
   ]
  },
  {
   "cell_type": "code",
   "execution_count": 35,
   "id": "675601e7",
   "metadata": {},
   "outputs": [
    {
     "name": "stdout",
     "output_type": "stream",
     "text": [
      "{'name': 'krish', 'age': '23', 'grade': 'A+'}\n",
      "{'name': 'krish', 'age': '23', 'grade': 'A+'}\n"
     ]
    }
   ],
   "source": [
    "students[\"name\"]=\"krish\"\n",
    "print(students)\n",
    "print(students_copy)"
   ]
  },
  {
   "cell_type": "code",
   "execution_count": 37,
   "id": "29cc91bf",
   "metadata": {},
   "outputs": [
    {
     "name": "stdout",
     "output_type": "stream",
     "text": [
      "{'name': 'krish', 'age': '23', 'grade': 'A+'}\n",
      "{'name': 'krish', 'age': '23', 'grade': 'A+', 'test': 'testing'}\n"
     ]
    }
   ],
   "source": [
    "## Shallow copy \n",
    "students_copy1=students.copy()\n",
    "print(students_copy1)\n",
    "\n",
    "students[\"test\"]=\"testing\"\n",
    "print(students)"
   ]
  },
  {
   "cell_type": "code",
   "execution_count": 38,
   "id": "efb53717",
   "metadata": {},
   "outputs": [
    {
     "name": "stdout",
     "output_type": "stream",
     "text": [
      "name\n",
      "age\n",
      "grade\n",
      "test\n"
     ]
    }
   ],
   "source": [
    "## Iterate over keys\n",
    "\n",
    "for keys in students.keys():\n",
    "    print(keys)\n"
   ]
  },
  {
   "cell_type": "code",
   "execution_count": 39,
   "id": "ddbe174f",
   "metadata": {},
   "outputs": [
    {
     "name": "stdout",
     "output_type": "stream",
     "text": [
      "krish\n",
      "23\n",
      "A+\n",
      "testing\n"
     ]
    }
   ],
   "source": [
    "for values in students.values():\n",
    "    print(values)"
   ]
  },
  {
   "cell_type": "code",
   "execution_count": 40,
   "id": "bca6a165",
   "metadata": {},
   "outputs": [
    {
     "name": "stdout",
     "output_type": "stream",
     "text": [
      "name:krish\n",
      "age:23\n",
      "grade:A+\n",
      "test:testing\n"
     ]
    }
   ],
   "source": [
    "for key,value in students.items():\n",
    "    print(f\"{key}:{value}\")"
   ]
  },
  {
   "cell_type": "code",
   "execution_count": 45,
   "id": "e6fc1401",
   "metadata": {},
   "outputs": [
    {
     "name": "stdout",
     "output_type": "stream",
     "text": [
      "{'student1': {'name': 'Krish', 'age': 32}, 'student2': {'name': 'Peter', 'age': 35}}\n"
     ]
    }
   ],
   "source": [
    "## Nested Dictionaries\n",
    "students={\n",
    "    \"student1\":{\"name\":\"Krish\",\"age\":32},\n",
    "    \"student2\":{\"name\":\"Peter\",\"age\":35}\n",
    "}\n",
    "print(students)\n",
    "\n"
   ]
  },
  {
   "cell_type": "code",
   "execution_count": null,
   "id": "e4e6ae01",
   "metadata": {},
   "outputs": [
    {
     "name": "stdout",
     "output_type": "stream",
     "text": [
      "Krish\n"
     ]
    }
   ],
   "source": [
    "print(students[\"student1\"][\"name\"])"
   ]
  },
  {
   "cell_type": "code",
   "execution_count": null,
   "id": "05177efc",
   "metadata": {},
   "outputs": [
    {
     "name": "stdout",
     "output_type": "stream",
     "text": [
      "student1:{'name': 'Krish', 'age': 32}\n",
      "student2:{'name': 'Peter', 'age': 35}\n"
     ]
    }
   ],
   "source": [
    "## iterating over nested dictionaires\n",
    "\n",
    "for students_id,student_info in students.items():\n",
    "    print(f\"{students_id}:{student_info}\")"
   ]
  },
  {
   "cell_type": "code",
   "execution_count": 49,
   "id": "94ba2f99",
   "metadata": {},
   "outputs": [
    {
     "name": "stdout",
     "output_type": "stream",
     "text": [
      "{0: 0, 1: 1, 2: 4, 3: 9, 4: 16}\n"
     ]
    }
   ],
   "source": [
    "## Dictionary Comphrehension\n",
    "\n",
    "squares={x:x**2 for x in range(5)}\n",
    "print(squares)"
   ]
  },
  {
   "cell_type": "code",
   "execution_count": null,
   "id": "d814c1cb",
   "metadata": {},
   "outputs": [
    {
     "name": "stdout",
     "output_type": "stream",
     "text": [
      "['student1', 'krish']\n",
      "krish\n"
     ]
    },
    {
     "data": {
      "text/plain": [
       "[]"
      ]
     },
     "execution_count": 62,
     "metadata": {},
     "output_type": "execute_result"
    }
   ],
   "source": [
    "## get all names\n",
    "value=input(\"Enter what value  you want to get from dict and pass it's key and value\")\n",
    "value=value.split(\" \")\n",
    "print(value)\n",
    "print(value[1])\n",
    "[student_info[value[1]] for id,student_info in students.items() if id==value[0] and student_info==[value[1]] ]"
   ]
  },
  {
   "cell_type": "code",
   "execution_count": 71,
   "id": "cc3a91e1",
   "metadata": {},
   "outputs": [
    {
     "name": "stdout",
     "output_type": "stream",
     "text": [
      "{1: 1, 2: 3, 3: 2, 4: 4}\n"
     ]
    }
   ],
   "source": [
    "numbers=[1,2,2,2,3,3,4,4,4,4]\n",
    "\n",
    "freq={}\n",
    "\n",
    "for number in numbers:\n",
    "    if number in freq:\n",
    "        freq[number]+=1\n",
    "    else:\n",
    "        freq[number]=1\n",
    "        \n",
    "print(freq)"
   ]
  },
  {
   "cell_type": "code",
   "execution_count": 74,
   "id": "c1884065",
   "metadata": {},
   "outputs": [
    {
     "name": "stdout",
     "output_type": "stream",
     "text": [
      "{'a': 1, 'b': 3, 'c': 4}\n"
     ]
    }
   ],
   "source": [
    "## Merge 2 dictionaries\n",
    "\n",
    "dict1={\"a\":1,\"b\":2}\n",
    "dict2={\"b\":3,\"c\":4}\n",
    "merged_dict={**dict1,**dict2} ## keyword args append\n",
    "print(merged_dict)\n"
   ]
  }
 ],
 "metadata": {
  "kernelspec": {
   "display_name": "venv",
   "language": "python",
   "name": "python3"
  },
  "language_info": {
   "codemirror_mode": {
    "name": "ipython",
    "version": 3
   },
   "file_extension": ".py",
   "mimetype": "text/x-python",
   "name": "python",
   "nbconvert_exporter": "python",
   "pygments_lexer": "ipython3",
   "version": "3.10.0"
  }
 },
 "nbformat": 4,
 "nbformat_minor": 5
}
