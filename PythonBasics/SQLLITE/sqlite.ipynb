{
 "cells": [
  {
   "cell_type": "markdown",
   "id": "9dac9d4d",
   "metadata": {},
   "source": [
    "## SQL And SQLite"
   ]
  },
  {
   "cell_type": "markdown",
   "id": "99127678",
   "metadata": {},
   "source": [
    "SQL (Strucutred Query Language) is a standard language for managing and manipulating relational databases. SQLLite is a self-contained and zero-configuration database engine that is widely used for embedded database systems."
   ]
  },
  {
   "cell_type": "code",
   "execution_count": 4,
   "id": "5eb391a7",
   "metadata": {},
   "outputs": [],
   "source": [
    "import sqlite3\n",
    "\n"
   ]
  },
  {
   "cell_type": "code",
   "execution_count": 5,
   "id": "7353e6dc",
   "metadata": {},
   "outputs": [
    {
     "data": {
      "text/plain": [
       "<sqlite3.Connection at 0x2631790af20>"
      ]
     },
     "execution_count": 5,
     "metadata": {},
     "output_type": "execute_result"
    }
   ],
   "source": [
    "## Connect to an SQLLite database\n",
    "connection=sqlite3.connect('example.db')\n",
    "connection"
   ]
  },
  {
   "cell_type": "code",
   "execution_count": 6,
   "id": "4f786063",
   "metadata": {},
   "outputs": [],
   "source": [
    "cursor=connection.cursor()"
   ]
  },
  {
   "cell_type": "code",
   "execution_count": 23,
   "id": "d45bd2e2",
   "metadata": {},
   "outputs": [],
   "source": [
    "cursor.execute('''Drop Table employees''')\n",
    "connection.commit()"
   ]
  },
  {
   "cell_type": "code",
   "execution_count": 24,
   "id": "0dbf6aeb",
   "metadata": {},
   "outputs": [],
   "source": [
    "## Create a table\n",
    "\n",
    "\n",
    "cursor.execute('''\n",
    "Create Table If Not Exists employees(id Integer \n",
    "                Primary key,\n",
    "                name Text Not Null,\n",
    "                age Integer,\n",
    "                department text)''')\n",
    "\n",
    "## commit the changes\n",
    "connection.commit()"
   ]
  },
  {
   "cell_type": "code",
   "execution_count": 25,
   "id": "85d67d39",
   "metadata": {},
   "outputs": [
    {
     "data": {
      "text/plain": [
       "<sqlite3.Cursor at 0x2631797aa40>"
      ]
     },
     "execution_count": 25,
     "metadata": {},
     "output_type": "execute_result"
    }
   ],
   "source": [
    "cursor.execute('''\n",
    "            Select * from employees''')\n"
   ]
  },
  {
   "cell_type": "code",
   "execution_count": 26,
   "id": "a106ba6f",
   "metadata": {},
   "outputs": [],
   "source": [
    "## Insert the data in sqlite table\n",
    "\n",
    "cursor.execute('''\n",
    "               Insert into employees(name,age,department)\n",
    "               values('Anup',21,'Data Scientist')''')\n",
    "\n",
    "cursor.execute('''\n",
    "               Insert into employees(name,age,department)\n",
    "               values('Bob',22,'Devops Engineer')''')\n",
    "\n",
    "cursor.execute('''\n",
    "               Insert into employees(name,age,department)\n",
    "               values('Hari',23,'Full Stack Engineer')''')\n",
    "\n",
    "\n",
    "connection.commit()"
   ]
  },
  {
   "cell_type": "code",
   "execution_count": 30,
   "id": "32937933",
   "metadata": {},
   "outputs": [
    {
     "name": "stdout",
     "output_type": "stream",
     "text": [
      "(1, 'Anup', 21, 'Data Scientist')\n",
      "(2, 'Bob', 22, 'Devops Engineer')\n",
      "(3, 'Hari', 23, 'Full Stack Engineer')\n"
     ]
    }
   ],
   "source": [
    "\n",
    "cursor.execute('''Select * from employees''')\n",
    "rows=cursor.fetchall()\n",
    "\n",
    "## print the queried data\n",
    "\n",
    "for row in rows:\n",
    "    print(row)\n"
   ]
  },
  {
   "cell_type": "code",
   "execution_count": 32,
   "id": "b61c1bfc",
   "metadata": {},
   "outputs": [],
   "source": [
    "## update the data into the table\n",
    "\n",
    "cursor.execute('''\n",
    "               Update employees Set age=34 where name='Bob' ''')\n",
    "\n",
    "connection.commit()"
   ]
  },
  {
   "cell_type": "code",
   "execution_count": 33,
   "id": "fedbd05d",
   "metadata": {},
   "outputs": [
    {
     "name": "stdout",
     "output_type": "stream",
     "text": [
      "(1, 'Anup', 21, 'Data Scientist')\n",
      "(2, 'Bob', 34, 'Devops Engineer')\n",
      "(3, 'Hari', 23, 'Full Stack Engineer')\n"
     ]
    }
   ],
   "source": [
    "cursor.execute('''Select * from employees''')\n",
    "rows=cursor.fetchall()\n",
    "\n",
    "## print the queried data\n",
    "\n",
    "for row in rows:\n",
    "    print(row)"
   ]
  },
  {
   "cell_type": "code",
   "execution_count": 34,
   "id": "e65c29ad",
   "metadata": {},
   "outputs": [],
   "source": [
    "## Delete the data from the table \n",
    "cursor.execute('''\n",
    "               Delete from employees where name='Bob' ''')\n",
    "\n",
    "connection.commit()"
   ]
  },
  {
   "cell_type": "code",
   "execution_count": 35,
   "id": "f336882c",
   "metadata": {},
   "outputs": [
    {
     "name": "stdout",
     "output_type": "stream",
     "text": [
      "(1, 'Anup', 21, 'Data Scientist')\n",
      "(3, 'Hari', 23, 'Full Stack Engineer')\n"
     ]
    }
   ],
   "source": [
    "\n",
    "cursor.execute('''Select * from employees''')\n",
    "rows=cursor.fetchall()\n",
    "\n",
    "## print the queried data\n",
    "\n",
    "for row in rows:\n",
    "    print(row)"
   ]
  },
  {
   "cell_type": "code",
   "execution_count": 37,
   "id": "afa9ad92",
   "metadata": {},
   "outputs": [
    {
     "data": {
      "text/plain": [
       "<sqlite3.Cursor at 0x2631798e240>"
      ]
     },
     "execution_count": 37,
     "metadata": {},
     "output_type": "execute_result"
    }
   ],
   "source": [
    "##  Working with sales data\n",
    "\n",
    "connection=sqlite3.connect('sales_data.db')\n",
    "cursor=connection.cursor()\n",
    "\n",
    "cursor.execute('''\n",
    "Create Table If Not Exists sales\n",
    "            (id Integer Primary Key,\n",
    "            date TEXT NOT NULL,\n",
    "            product TEXT NOT NULL,\n",
    "            sales INTEGER,\n",
    "            region TEXT)''')\n",
    "\n",
    "\n",
    "sales_data=[\n",
    "    ('2023-01-01','Product1',100,'North'),\n",
    "    ('2023-01-02','Product2',200,'South'),\n",
    "    ('2023-02-02','Product3',2200,'North'),\n",
    "    ('2023-04-02','Product4',2010,'West')\n",
    "]\n",
    "\n",
    "cursor.executemany('''\n",
    "                   Insert into sales(date,product,sales,region)\n",
    "                   values(?,?,?,?)''',sales_data)"
   ]
  },
  {
   "cell_type": "code",
   "execution_count": 38,
   "id": "ca890aed",
   "metadata": {},
   "outputs": [
    {
     "name": "stdout",
     "output_type": "stream",
     "text": [
      "(1, '2023-01-01', 'Product1', 100, 'North')\n",
      "(2, '2023-01-02', 'Product2', 200, 'South')\n",
      "(3, '2023-02-02', 'Product3', 2200, 'North')\n",
      "(4, '2023-04-02', 'Product4', 2010, 'West')\n"
     ]
    }
   ],
   "source": [
    "\n",
    "cursor.execute('''Select * from sales''')\n",
    "rows=cursor.fetchall()\n",
    "\n",
    "## print the queried data\n",
    "\n",
    "for row in rows:\n",
    "    print(row)"
   ]
  },
  {
   "cell_type": "code",
   "execution_count": null,
   "id": "79db4103",
   "metadata": {},
   "outputs": [],
   "source": [
    "connection.close()"
   ]
  },
  {
   "cell_type": "code",
   "execution_count": 42,
   "id": "181c6c02",
   "metadata": {},
   "outputs": [
    {
     "ename": "ProgrammingError",
     "evalue": "Cannot operate on a closed database.",
     "output_type": "error",
     "traceback": [
      "\u001b[31m---------------------------------------------------------------------------\u001b[39m",
      "\u001b[31mProgrammingError\u001b[39m                          Traceback (most recent call last)",
      "\u001b[36mCell\u001b[39m\u001b[36m \u001b[39m\u001b[32mIn[42]\u001b[39m\u001b[32m, line 1\u001b[39m\n\u001b[32m----> \u001b[39m\u001b[32m1\u001b[39m cursor.execute(\u001b[33m'''\u001b[39m\u001b[33mSelect * from sales\u001b[39m\u001b[33m'''\u001b[39m)\n",
      "\u001b[31mProgrammingError\u001b[39m: Cannot operate on a closed database."
     ]
    }
   ],
   "source": [
    "cursor.execute('''Select * from sales''')"
   ]
  },
  {
   "cell_type": "code",
   "execution_count": null,
   "id": "8ca8887c",
   "metadata": {},
   "outputs": [],
   "source": []
  }
 ],
 "metadata": {
  "kernelspec": {
   "display_name": "myenv",
   "language": "python",
   "name": "myenv"
  },
  "language_info": {
   "codemirror_mode": {
    "name": "ipython",
    "version": 3
   },
   "file_extension": ".py",
   "mimetype": "text/x-python",
   "name": "python",
   "nbconvert_exporter": "python",
   "pygments_lexer": "ipython3",
   "version": "3.12.9"
  }
 },
 "nbformat": 4,
 "nbformat_minor": 5
}
