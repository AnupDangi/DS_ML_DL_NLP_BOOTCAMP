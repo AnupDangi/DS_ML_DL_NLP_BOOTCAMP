{
 "cells": [
  {
   "cell_type": "markdown",
   "id": "f2328984",
   "metadata": {},
   "source": [
    "Python Logging\n",
    "\n",
    "Logging is a curcial aspect of any application,providing a way to track events,errors,and operational information.Python's built-in logging module offers a flexible framework for emitting log messages from Python programs.In this lessson, we will cover the basics of logging,including how to configure logging,log levels, and best practices for using logging in Python applications."
   ]
  },
  {
   "cell_type": "markdown",
   "id": "f417e3d6",
   "metadata": {},
   "source": [
    "## Log Levels\n",
    "\n",
    "Python's logging module has several log levels indicating the severity of events."
   ]
  },
  {
   "cell_type": "code",
   "execution_count": 21,
   "id": "400e5450",
   "metadata": {},
   "outputs": [
    {
     "name": "stderr",
     "output_type": "stream",
     "text": [
      "DEBUG:root:Test with custom timezone\n",
      "1900-01-01 10:22:21 DEBUG    Test with custom timezone\n",
      "1900-01-01 10:22:21 DEBUG    Test with custom timezone\n"
     ]
    }
   ],
   "source": [
    "import logging\n",
    "from datetime import datetime\n",
    "import pytz  # Install via pip if needed\n",
    "\n",
    "class CustomFormatter(logging.Formatter):\n",
    "    def converter(self, timestamp):\n",
    "        tz = pytz.timezone('Asia/Kathmandu')  # Your timezone\n",
    "        return datetime.fromtimestamp(timestamp, tz).timetz()\n",
    "\n",
    "    def formatTime(self, record, datefmt=None):\n",
    "        dt = self.converter(record.created)\n",
    "        return dt.strftime(datefmt or '%Y-%m-%d %H:%M:%S')\n",
    "\n",
    "handler = logging.StreamHandler()\n",
    "handler.setFormatter(CustomFormatter('%(asctime)s %(levelname)-8s %(message)s'))\n",
    "logging.getLogger().addHandler(handler)\n",
    "logging.getLogger().setLevel(logging.DEBUG)\n",
    "\n",
    "logging.debug(\"Test with custom timezone\")\n"
   ]
  },
  {
   "cell_type": "code",
   "execution_count": 17,
   "id": "99ed7c18",
   "metadata": {},
   "outputs": [],
   "source": [
    "import logging\n",
    "\n",
    "# Force reconfiguration\n",
    "for handler in logging.root.handlers[:]:\n",
    "    logging.root.removeHandler(handler)\n",
    "\n",
    "logging.basicConfig(\n",
    "    filename=\"app.log\",\n",
    "    filemode='w',\n",
    "    level=logging.DEBUG,\n",
    "    format=\"%(asctime)s - %(name)s - %(levelname)s - %(message)s\",\n",
    "    datefmt=\"%Y-%m-%d %H:%M:%S\"\n",
    ")\n",
    "\n",
    "logging.debug(\"This is a debug message\")\n",
    "logging.info(\"This is an info message\")\n",
    "logging.warning(\"This is a warning message\")\n",
    "logging.error(\"This is an error message\")\n",
    "logging.critical(\"This is a critical message\")\n"
   ]
  }
 ],
 "metadata": {
  "kernelspec": {
   "display_name": "myenv",
   "language": "python",
   "name": "myenv"
  },
  "language_info": {
   "codemirror_mode": {
    "name": "ipython",
    "version": 3
   },
   "file_extension": ".py",
   "mimetype": "text/x-python",
   "name": "python",
   "nbconvert_exporter": "python",
   "pygments_lexer": "ipython3",
   "version": "3.12.9"
  }
 },
 "nbformat": 4,
 "nbformat_minor": 5
}
