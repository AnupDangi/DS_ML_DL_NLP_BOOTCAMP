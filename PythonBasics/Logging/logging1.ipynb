{
 "cells": [
  {
   "cell_type": "code",
   "execution_count": 3,
   "id": "4e3c8dc4",
   "metadata": {},
   "outputs": [],
   "source": [
    "## Logging with multiple loggers\n",
    "\n",
    "import logging\n",
    "logger1=logging.getLogger(\"module1\")\n",
    "logger1.setLevel(logging.DEBUG)\n",
    "\n",
    "## Create a logger for module 2\n",
    "\n",
    "logging.basicConfig(\n",
    "    level=logging.DEBUG,\n",
    "    format='%(asctime)s - %(name)s - %(levelname)s -%(message)s',\n",
    "    datefmt='%Y-%m-%d %H:%M:%S'\n",
    ")"
   ]
  },
  {
   "cell_type": "code",
   "execution_count": 5,
   "id": "7532dc3b",
   "metadata": {},
   "outputs": [
    {
     "name": "stderr",
     "output_type": "stream",
     "text": [
      "2025-09-12 00:16:45 - module1 - DEBUG -This is a debug log\n",
      "2025-09-12 00:16:45 - root - WARNING -this is a warning log\n"
     ]
    }
   ],
   "source": [
    "## log messages with different logger\n",
    "logger1.debug(\"This is a debug log\") ## with modified logger\n",
    "\n",
    "logging.warning(\"this is a warning log\") # used default logging"
   ]
  },
  {
   "cell_type": "code",
   "execution_count": null,
   "id": "f11062d1",
   "metadata": {},
   "outputs": [],
   "source": []
  }
 ],
 "metadata": {
  "kernelspec": {
   "display_name": "myenv",
   "language": "python",
   "name": "myenv"
  },
  "language_info": {
   "codemirror_mode": {
    "name": "ipython",
    "version": 3
   },
   "file_extension": ".py",
   "mimetype": "text/x-python",
   "name": "python",
   "nbconvert_exporter": "python",
   "pygments_lexer": "ipython3",
   "version": "3.12.9"
  }
 },
 "nbformat": 4,
 "nbformat_minor": 5
}
