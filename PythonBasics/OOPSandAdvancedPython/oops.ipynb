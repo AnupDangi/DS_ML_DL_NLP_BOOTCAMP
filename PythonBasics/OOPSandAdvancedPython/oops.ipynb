{
 "cells": [
  {
   "cell_type": "markdown",
   "id": "78bd3231",
   "metadata": {},
   "source": [
    "Classes and Objects\n",
    "\n",
    "Object-Oriented Programming (OOP) is a programming paradigm that uses \"objects\""
   ]
  },
  {
   "cell_type": "code",
   "execution_count": null,
   "id": "c3a5756d",
   "metadata": {},
   "outputs": [
    {
     "name": "stdout",
     "output_type": "stream",
     "text": [
      "<__main__.Car object at 0x000001D4133D3140>\n",
      "<__main__.Car object at 0x000001D413679A30>\n"
     ]
    }
   ],
   "source": [
    "## A class is a blue print for creating objects. Attributes,methods\n",
    "\n",
    "class Car:\n",
    "    pass \n",
    "\n",
    "audi=Car()\n",
    "bmw=Car()\n",
    "print(audi)\n",
    "print(bmw)\n",
    "\n"
   ]
  },
  {
   "cell_type": "code",
   "execution_count": null,
   "id": "c0b56301",
   "metadata": {},
   "outputs": [
    {
     "name": "stdout",
     "output_type": "stream",
     "text": [
      "4\n"
     ]
    }
   ],
   "source": [
    "audi.windows=4\n",
    "print(audi.windows)\n",
    "\n",
    "tata=Car()"
   ]
  },
  {
   "cell_type": "code",
   "execution_count": 5,
   "id": "a9a25eb1",
   "metadata": {},
   "outputs": [
    {
     "name": "stdout",
     "output_type": "stream",
     "text": [
      "apu\n",
      "21\n"
     ]
    }
   ],
   "source": [
    "## Instance Variables and Methods\n",
    "\n",
    "class Dog:\n",
    "    ## constructor\n",
    "    def __init__(self,name,age):\n",
    "        self.name=name\n",
    "        self.age=age\n",
    "        \n",
    "\n",
    "dog=Dog('apu',21)\n",
    "print(dog.name)\n",
    "print(dog.age)"
   ]
  },
  {
   "cell_type": "code",
   "execution_count": 7,
   "id": "b70fb661",
   "metadata": {},
   "outputs": [
    {
     "name": "stdout",
     "output_type": "stream",
     "text": [
      "4\n",
      "Lucy\n"
     ]
    }
   ],
   "source": [
    "dog1=Dog('Lucy',4)\n",
    "print(dog1.age)\n",
    "print(dog1.name)"
   ]
  },
  {
   "cell_type": "code",
   "execution_count": null,
   "id": "3b94e6f5",
   "metadata": {},
   "outputs": [
    {
     "name": "stdout",
     "output_type": "stream",
     "text": [
      "Buddy says woof\n",
      "Lucy says woof\n"
     ]
    }
   ],
   "source": [
    "class Dog:\n",
    "    ## constructor\n",
    "    def __init__(self,name,age):\n",
    "        self.name=name\n",
    "        self.age=age\n",
    "        \n",
    "    def bark(self):\n",
    "        print(f'{self.name} says woof')\n",
    "    \n",
    "\n",
    "dog1=Dog(\"Buddy\",3)\n",
    "dog1.bark()\n",
    "dog2=Dog(\"Lucy\",4)\n",
    "dog2.bark()"
   ]
  },
  {
   "cell_type": "code",
   "execution_count": 20,
   "id": "e0b68bb0",
   "metadata": {},
   "outputs": [
    {
     "name": "stdout",
     "output_type": "stream",
     "text": [
      "1000000000000000000000000\n",
      "10000 is withdrawn your new balance is 999999999999999999990000\n",
      "None\n"
     ]
    }
   ],
   "source": [
    "## Modeling a Bank Account\n",
    "\n",
    "## Define a clalss for bank account\n",
    "\n",
    "class BankAccount:\n",
    "    def __init__(self,owner,balance=0):\n",
    "        self.owner=owner\n",
    "        self.balance=balance\n",
    "    \n",
    "    def deposit(self,amount):\n",
    "        self.balance+=amount\n",
    "        print(f\"{amount} is deposited. New Balance is {self.balance}\")\n",
    "\n",
    "    def withdraw(self,amount):\n",
    "        if amount>self.balance:\n",
    "            print(\"Insufficient Funds!\")\n",
    "        else:\n",
    "            self.balance-=amount\n",
    "            print(f\"{amount} is withdrawn your new balance is {self.balance}\")\n",
    "    \n",
    "    def get_balance(self):\n",
    "        return self.balance\n",
    "\n",
    "anupbank=BankAccount('anup',1000000000000000000000000)\n",
    "print(anupbank.get_balance())\n",
    "\n",
    "print(anupbank.withdraw(10000))"
   ]
  }
 ],
 "metadata": {
  "kernelspec": {
   "display_name": "myenv",
   "language": "python",
   "name": "myenv"
  },
  "language_info": {
   "codemirror_mode": {
    "name": "ipython",
    "version": 3
   },
   "file_extension": ".py",
   "mimetype": "text/x-python",
   "name": "python",
   "nbconvert_exporter": "python",
   "pygments_lexer": "ipython3",
   "version": "3.12.9"
  }
 },
 "nbformat": 4,
 "nbformat_minor": 5
}
