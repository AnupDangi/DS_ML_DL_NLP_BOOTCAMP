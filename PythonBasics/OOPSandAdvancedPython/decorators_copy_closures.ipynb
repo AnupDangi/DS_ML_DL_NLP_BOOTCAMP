{
 "cells": [
  {
   "cell_type": "code",
   "execution_count": 1,
   "id": "acf14880",
   "metadata": {},
   "outputs": [],
   "source": [
    "## function copy\n",
    "## closures\n",
    "## decorators\n",
    "\n"
   ]
  },
  {
   "cell_type": "markdown",
   "id": "e0b4e85b",
   "metadata": {},
   "source": [
    "Decorators are a powerful way "
   ]
  },
  {
   "cell_type": "code",
   "execution_count": 10,
   "id": "4523612d",
   "metadata": {},
   "outputs": [
    {
     "data": {
      "text/plain": [
       "'Welcome to the advanced python course'"
      ]
     },
     "execution_count": 10,
     "metadata": {},
     "output_type": "execute_result"
    }
   ],
   "source": [
    "## function copy\n",
    "def welcome():\n",
    "    return \"Welcome to the advanced python course\"\n",
    "\n",
    "welcome()"
   ]
  },
  {
   "cell_type": "code",
   "execution_count": 11,
   "id": "afd3195f",
   "metadata": {},
   "outputs": [
    {
     "name": "stdout",
     "output_type": "stream",
     "text": [
      "Welcome to the advanced python course\n",
      "Welcome to the advanced python course\n"
     ]
    }
   ],
   "source": [
    "wel=welcome ## function copy\n",
    "print(wel())\n",
    "del welcome ## after deleting also we can use another copied function\n",
    "print(wel())"
   ]
  },
  {
   "cell_type": "code",
   "execution_count": 15,
   "id": "3d9df009",
   "metadata": {},
   "outputs": [
    {
     "name": "stdout",
     "output_type": "stream",
     "text": [
      "Welcome to the advanced python course\n",
      "Welcome Everyone\n",
      "Please learn these concepts properly\n"
     ]
    }
   ],
   "source": [
    "## closures \n",
    "## function inside a function\n",
    "\n",
    "def main_welcome(msg):\n",
    "    def sub_welcome_method():\n",
    "        print('Welcome to the advanced python course')\n",
    "        print(msg)\n",
    "        print(\"Please learn these concepts properly\")\n",
    "        \n",
    "    return sub_welcome_method()\n",
    "\n",
    "main_welcome(\"Welcome Everyone\")"
   ]
  },
  {
   "cell_type": "code",
   "execution_count": 20,
   "id": "54fab6ab",
   "metadata": {},
   "outputs": [
    {
     "name": "stdout",
     "output_type": "stream",
     "text": [
      "Welcome to the advanced python course\n",
      "5\n",
      "Please learn these concepts properly\n"
     ]
    }
   ],
   "source": [
    "def main_welcome(func,lst): ## closure parameters as a methods\n",
    "    def sub_welcome_method():\n",
    "        print('Welcome to the advanced python course')\n",
    "        print(func(lst))\n",
    "        print(\"Please learn these concepts properly\")\n",
    "        \n",
    "    return sub_welcome_method()\n",
    "\n",
    "# main_welcome()\n",
    "main_welcome(len,[1,2,3,4,5])"
   ]
  },
  {
   "cell_type": "markdown",
   "id": "fe5f9372",
   "metadata": {},
   "source": [
    "## Decorators\n",
    "They allow us to add function as parameters inside another function.\n",
    "\n",
    "\n"
   ]
  },
  {
   "cell_type": "code",
   "execution_count": 28,
   "id": "b889bf62",
   "metadata": {},
   "outputs": [],
   "source": [
    "def main_welcome(func): ## closure parameters as a methods\n",
    "    def sub_welcome_method():\n",
    "        print('Welcome to the advanced python course')\n",
    "        print(func())\n",
    "        print(\"Please learn these concepts properly\")\n",
    "        \n",
    "    return sub_welcome_method()\n",
    "\n",
    "\n"
   ]
  },
  {
   "cell_type": "code",
   "execution_count": 29,
   "id": "696201cf",
   "metadata": {},
   "outputs": [
    {
     "name": "stdout",
     "output_type": "stream",
     "text": [
      "This is an advanced python course\n"
     ]
    }
   ],
   "source": [
    "def course_introduction():\n",
    "    print(\"This is an advanced python course\")\n",
    "\n",
    "\n",
    "course_introduction()"
   ]
  },
  {
   "cell_type": "code",
   "execution_count": 30,
   "id": "76d4e254",
   "metadata": {},
   "outputs": [
    {
     "name": "stdout",
     "output_type": "stream",
     "text": [
      "Welcome to the advanced python course\n",
      "This is an advanced python course\n",
      "None\n",
      "Please learn these concepts properly\n"
     ]
    }
   ],
   "source": [
    "# main_welcome(course_introduction) ## one method \n",
    "\n",
    "\n",
    "## next use decorator\n",
    "\n",
    "@main_welcome\n",
    "def course_introduction():\n",
    "    print(\"This is an advanced python course\")"
   ]
  },
  {
   "cell_type": "code",
   "execution_count": 31,
   "id": "5d3ef438",
   "metadata": {},
   "outputs": [],
   "source": [
    "def repeat(n):\n",
    "    def decorators(func):\n",
    "        def wrapper(*args,**kwargs):\n",
    "            for _ in range(n):\n",
    "                func(*args,**kwargs)\n",
    "        return wrapper\n",
    "    return decorators\n",
    "\n",
    "\n"
   ]
  },
  {
   "cell_type": "code",
   "execution_count": 32,
   "id": "1d96479b",
   "metadata": {},
   "outputs": [],
   "source": [
    "@repeat(3)\n",
    "def say_hello():\n",
    "    print(\"Hello\")\n",
    "    \n"
   ]
  },
  {
   "cell_type": "code",
   "execution_count": 33,
   "id": "acfae33b",
   "metadata": {},
   "outputs": [
    {
     "name": "stdout",
     "output_type": "stream",
     "text": [
      "Hello\n",
      "Hello\n",
      "Hello\n"
     ]
    }
   ],
   "source": [
    "say_hello()"
   ]
  }
 ],
 "metadata": {
  "kernelspec": {
   "display_name": "myenv",
   "language": "python",
   "name": "myenv"
  },
  "language_info": {
   "codemirror_mode": {
    "name": "ipython",
    "version": 3
   },
   "file_extension": ".py",
   "mimetype": "text/x-python",
   "name": "python",
   "nbconvert_exporter": "python",
   "pygments_lexer": "ipython3",
   "version": "3.12.9"
  }
 },
 "nbformat": 4,
 "nbformat_minor": 5
}
