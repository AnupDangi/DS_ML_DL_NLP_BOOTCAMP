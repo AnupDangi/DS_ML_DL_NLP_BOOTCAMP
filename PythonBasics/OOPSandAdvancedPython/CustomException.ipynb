{
 "cells": [
  {
   "cell_type": "markdown",
   "id": "00dfbaa0",
   "metadata": {},
   "source": [
    "Custom exception (Raise and Throw an Exception)\n",
    "\n",
    "\n"
   ]
  },
  {
   "cell_type": "code",
   "execution_count": 1,
   "id": "ffc0d8bb",
   "metadata": {},
   "outputs": [],
   "source": [
    "class Error(Exception):\n",
    "    pass\n",
    "\n",
    "class dobException(Error):\n",
    "    pass\n",
    "\n"
   ]
  },
  {
   "cell_type": "code",
   "execution_count": 11,
   "id": "33c6a7e1",
   "metadata": {},
   "outputs": [
    {
     "name": "stdout",
     "output_type": "stream",
     "text": [
      "21\n",
      "The age is valid so you can apply for the exams\n"
     ]
    }
   ],
   "source": [
    "import datetime \n",
    "year=int(input(\"Enter your Date of birth\"))\n",
    "age=datetime.datetime.now().year-year\n",
    "print(age)\n",
    "\n",
    "try:\n",
    "    if age<=30 and age>=20:\n",
    "        print(\"The age is valid so you can apply for the exams\")\n",
    "\n",
    "    else:\n",
    "        raise dobException\n",
    "\n",
    "except dobException:\n",
    "    print(\"Sorry, your age shyould be greater than 20 or less than 30\")"
   ]
  }
 ],
 "metadata": {
  "kernelspec": {
   "display_name": "myenv",
   "language": "python",
   "name": "myenv"
  },
  "language_info": {
   "codemirror_mode": {
    "name": "ipython",
    "version": 3
   },
   "file_extension": ".py",
   "mimetype": "text/x-python",
   "name": "python",
   "nbconvert_exporter": "python",
   "pygments_lexer": "ipython3",
   "version": "3.12.9"
  }
 },
 "nbformat": 4,
 "nbformat_minor": 5
}
