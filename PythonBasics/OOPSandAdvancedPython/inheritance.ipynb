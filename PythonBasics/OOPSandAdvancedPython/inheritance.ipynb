{
 "cells": [
  {
   "cell_type": "markdown",
   "id": "6eb3f742",
   "metadata": {},
   "source": [
    "Inheritance In Python \n",
    "Inheritance is a fundamental concept in Object Oriented Programming(OOP) that allows a class to inherit attributes and methods from another class. This lesson covers single inheritance and multiple inheritance,demonstrating how to create and use them in Python."
   ]
  },
  {
   "cell_type": "code",
   "execution_count": 2,
   "id": "adfc8848",
   "metadata": {},
   "outputs": [
    {
     "name": "stdout",
     "output_type": "stream",
     "text": [
      "The person will drive the petrol car\n"
     ]
    }
   ],
   "source": [
    "## Inheritance\n",
    "\n",
    "## Parent class\n",
    "\n",
    "class Car:\n",
    "    def __init__(self,windows,doors,enginetype):\n",
    "        self.windows=windows\n",
    "        self.doors=doors\n",
    "        self.enginetype=enginetype\n",
    "        \n",
    "    def drive(self):\n",
    "        print(f\"The person will drive the {self.enginetype} car\")\n",
    "    \n",
    "\n",
    "car1=Car(4,5,'petrol')\n",
    "car1.drive()\n",
    "        "
   ]
  },
  {
   "cell_type": "code",
   "execution_count": null,
   "id": "f2152274",
   "metadata": {},
   "outputs": [
    {
     "name": "stdout",
     "output_type": "stream",
     "text": [
      "Tesla supports self driving :True\n",
      "None\n"
     ]
    }
   ],
   "source": [
    "class Tesla(Car):\n",
    "    def __init__(self,windows,doors,enginetype,is_selfdriving):\n",
    "        super().__init__(windows,doors,enginetype) ## call init method for initialize from parent class\n",
    "        self.is_selfdriving=is_selfdriving\n",
    "    \n",
    "    def selfdriving(self):\n",
    "        print(f\"Tesla supports self driving :{self.is_selfdriving}\")\n",
    "\n",
    "\n",
    "anup_tesla=Tesla(4,5,'electric',True)\n",
    "print(anup_tesla.selfdriving())\n",
    "        "
   ]
  },
  {
   "cell_type": "code",
   "execution_count": 6,
   "id": "3801feed",
   "metadata": {},
   "outputs": [
    {
     "name": "stdout",
     "output_type": "stream",
     "text": [
      "The person will drive the electric car\n"
     ]
    }
   ],
   "source": [
    "anup_tesla.drive()"
   ]
  },
  {
   "cell_type": "code",
   "execution_count": 10,
   "id": "63235fbc",
   "metadata": {},
   "outputs": [
    {
     "name": "stdout",
     "output_type": "stream",
     "text": [
      "dog dog barks\n",
      "None\n",
      "anup\n"
     ]
    }
   ],
   "source": [
    "## Multiple Inheritance\n",
    "## when  a class inherits from more than one base class\n",
    "\n",
    "## Base Class 1\n",
    "class Animal:\n",
    "    def __init__(self,name):\n",
    "        self.name=name\n",
    "        \n",
    "    def speak(self):\n",
    "        print('SubClass must impleent this method')\n",
    "        \n",
    "\n",
    "class Pet:\n",
    "    def __init__(self,owner):\n",
    "        self.owner=owner\n",
    "        \n",
    "\n",
    "## Derived Class\n",
    "class Dog(Animal,Pet):\n",
    "    def __init__(self, name,owner):\n",
    "        Animal.__init__(self,name)\n",
    "        Pet.__init__(self,owner)\n",
    "        \n",
    "    def speak(self):\n",
    "        print(f\"{self.name} dog barks\")\n",
    "        \n",
    "\n",
    "dog=Dog('dog','anup')\n",
    "print(dog.speak())\n",
    "print(dog.owner)"
   ]
  }
 ],
 "metadata": {
  "kernelspec": {
   "display_name": "myenv",
   "language": "python",
   "name": "myenv"
  },
  "language_info": {
   "codemirror_mode": {
    "name": "ipython",
    "version": 3
   },
   "file_extension": ".py",
   "mimetype": "text/x-python",
   "name": "python",
   "nbconvert_exporter": "python",
   "pygments_lexer": "ipython3",
   "version": "3.12.9"
  }
 },
 "nbformat": 4,
 "nbformat_minor": 5
}
