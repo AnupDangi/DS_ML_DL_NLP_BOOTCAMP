{
 "cells": [
  {
   "cell_type": "markdown",
   "id": "2ba816c1",
   "metadata": {},
   "source": [
    "Abstraction is the concept of hiding the complex implementation details and showing only the necessary features of an object.This helps in reducing programming complexity and effort."
   ]
  },
  {
   "cell_type": "code",
   "execution_count": 3,
   "id": "53a910cf",
   "metadata": {},
   "outputs": [
    {
     "name": "stdout",
     "output_type": "stream",
     "text": [
      "Car engine started\n",
      "The vechile is used for driving\n"
     ]
    }
   ],
   "source": [
    "from abc import ABC,abstractmethod\n",
    "\n",
    "class Vechile(ABC):\n",
    "    def drive(self):\n",
    "        print(\"The vechile is used for driving\")\n",
    "        \n",
    "    @abstractmethod\n",
    "    def start_engine(self):\n",
    "        pass\n",
    "\n",
    "\n",
    "class Car(Vechile):\n",
    "    def start_engine(self):\n",
    "        print(\"Car engine started\")\n",
    "    \n",
    "\n",
    "def operate_vechile(vechile):\n",
    "    vechile.start_engine()\n",
    "    vechile.drive()\n",
    "    \n",
    "car=Car()\n",
    "operate_vechile(car)\n",
    "    "
   ]
  }
 ],
 "metadata": {
  "kernelspec": {
   "display_name": "myenv",
   "language": "python",
   "name": "myenv"
  },
  "language_info": {
   "codemirror_mode": {
    "name": "ipython",
    "version": 3
   },
   "file_extension": ".py",
   "mimetype": "text/x-python",
   "name": "python",
   "nbconvert_exporter": "python",
   "pygments_lexer": "ipython3",
   "version": "3.12.9"
  }
 },
 "nbformat": 4,
 "nbformat_minor": 5
}
