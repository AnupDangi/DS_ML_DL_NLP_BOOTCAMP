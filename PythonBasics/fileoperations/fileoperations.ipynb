{
 "cells": [
  {
   "cell_type": "code",
   "execution_count": null,
   "id": "8e5aa890",
   "metadata": {},
   "outputs": [],
   "source": [
    "## File Operation - Read and Write Files\n",
    "\n",
    "## File handling is a crucial part of any programming language. "
   ]
  },
  {
   "cell_type": "code",
   "execution_count": 2,
   "id": "a73d71b0",
   "metadata": {},
   "outputs": [
    {
     "name": "stdout",
     "output_type": "stream",
     "text": [
      "Hello This is file operation example\n",
      "We can see the file opeartion in the code.\n",
      "\n"
     ]
    }
   ],
   "source": [
    "## Read a whole file\n",
    "\n",
    "with open('example.txt','r') as file:\n",
    "    content=file.read()\n",
    "    print(content)\n",
    "    "
   ]
  },
  {
   "cell_type": "code",
   "execution_count": 4,
   "id": "6fc311cb",
   "metadata": {},
   "outputs": [
    {
     "name": "stdout",
     "output_type": "stream",
     "text": [
      "Hello This is file operation example\n",
      "We can see the file opeartion in the code.\n"
     ]
    }
   ],
   "source": [
    "## Read file line by line\n",
    "\n",
    "with open('example.txt','r') as file:\n",
    "    for line in file:\n",
    "        print(line.strip()) ## strips removes the newline character\n",
    "        "
   ]
  },
  {
   "cell_type": "code",
   "execution_count": 8,
   "id": "cd60f0db",
   "metadata": {},
   "outputs": [],
   "source": [
    "## Writing a file (Overwriting)\n",
    "\n",
    "with open('example.txt','w') as file:\n",
    "    file.write('Hello World \\n ')\n",
    "    file.write('this is a new line.')"
   ]
  },
  {
   "cell_type": "code",
   "execution_count": null,
   "id": "72864450",
   "metadata": {},
   "outputs": [],
   "source": [
    "## Write a file without overwriting\n",
    "\n",
    "with open('example.txt','a') as file:\n",
    "    file.write(\"Append opeartion taking place\\n\")"
   ]
  },
  {
   "cell_type": "code",
   "execution_count": 11,
   "id": "7b839eb3",
   "metadata": {},
   "outputs": [],
   "source": [
    "## Writing a list of lines to a file\n",
    "\n",
    "lines=['\\nfirst line\\n','Second line\\n','Third line\\n']\n",
    "with open('example.txt','a') as file:\n",
    "    file.writelines(lines)"
   ]
  },
  {
   "cell_type": "code",
   "execution_count": 16,
   "id": "94856512",
   "metadata": {},
   "outputs": [
    {
     "name": "stdout",
     "output_type": "stream",
     "text": [
      "5\n"
     ]
    }
   ],
   "source": [
    "## binary files \n",
    "\n",
    "data=b'\\x00\\x01\\x02\\x03\\x04'\n",
    "with open('example.bin','wb') as file:\n",
    "    content=file.write(data)\n",
    "    print(content)"
   ]
  },
  {
   "cell_type": "code",
   "execution_count": 18,
   "id": "147358bf",
   "metadata": {},
   "outputs": [
    {
     "name": "stdout",
     "output_type": "stream",
     "text": [
      "b'\\x00\\x01\\x02\\x03\\x04'\n"
     ]
    }
   ],
   "source": [
    "## Read the content from a source text file and write to a destination text file\n",
    "\n",
    "with open('example.bin','rb') as file:\n",
    "    print(file.read())"
   ]
  },
  {
   "cell_type": "code",
   "execution_count": 20,
   "id": "9e775cb3",
   "metadata": {},
   "outputs": [
    {
     "name": "stdout",
     "output_type": "stream",
     "text": [
      "Lines:8,Words:21,Chars:131\n"
     ]
    }
   ],
   "source": [
    "## count files lines,words and characters\n",
    "\n",
    "def count_text_file(file_path):\n",
    "    with open(file_path,'r') as file:\n",
    "        lines=file.readlines()\n",
    "        line_count=len(lines)\n",
    "        word_count=sum(len(line.split()) for line in lines)\n",
    "        char_count=sum(len(line) for line in lines)\n",
    "    return line_count,word_count,char_count\n",
    "    \n",
    "\n",
    "file_path='example.txt'\n",
    "lines,words,chars=count_text_file(file_path)\n",
    "print(f'Lines:{lines},Words:{words},Chars:{chars}')"
   ]
  },
  {
   "cell_type": "code",
   "execution_count": null,
   "id": "655f8656",
   "metadata": {},
   "outputs": [
    {
     "name": "stdout",
     "output_type": "stream",
     "text": [
      "Hello world\n",
      "This is a new line \n",
      "\n"
     ]
    }
   ],
   "source": [
    "## Writing and then reading a file\n",
    "\n",
    "with open('example.txt','w+') as file:\n",
    "    file.write('Hello world\\n')\n",
    "    file.write('This is a new line \\n')\n",
    "    \n",
    "    ## Move the file cursor to the beginning \n",
    "    file.seek(0)\n",
    "    \n",
    "    ## Read the content \n",
    "    content=file.read()\n",
    "    print(content)"
   ]
  },
  {
   "cell_type": "code",
   "execution_count": 25,
   "id": "99a6be8e",
   "metadata": {},
   "outputs": [
    {
     "name": "stdout",
     "output_type": "stream",
     "text": [
      "Directory 'package' create\n"
     ]
    }
   ],
   "source": [
    "## Create a new directory\n",
    "import os\n",
    "new_directory=\"package\"\n",
    "os.mkdir(new_directory)\n",
    "print(f\"Directory '{new_directory}' create\")"
   ]
  },
  {
   "cell_type": "code",
   "execution_count": 26,
   "id": "b7bfe88c",
   "metadata": {},
   "outputs": [
    {
     "name": "stdout",
     "output_type": "stream",
     "text": [
      "['example.bin', 'example.txt', 'fileoperations.ipynb', 'package']\n"
     ]
    }
   ],
   "source": [
    "## Listing files and directory\n",
    "items=os.listdir('.')\n",
    "print(items)"
   ]
  },
  {
   "cell_type": "code",
   "execution_count": 31,
   "id": "44958432",
   "metadata": {},
   "outputs": [
    {
     "name": "stdout",
     "output_type": "stream",
     "text": [
      "d:\\Data\\Research\\NLPDS\\PythonBasics\\fileoperations\\folder\\file.txt\n",
      "folder\\file.txt\n"
     ]
    }
   ],
   "source": [
    "dir_name='folder'\n",
    "file_name='file.txt'\n",
    "full_path=os.path.join(os.getcwd(),dir_name,file_name)\n",
    "relative_path=os.path.join(dir_name,file_name)\n",
    "print(full_path)\n",
    "print(relative_path)"
   ]
  },
  {
   "cell_type": "code",
   "execution_count": 32,
   "id": "30156449",
   "metadata": {},
   "outputs": [
    {
     "name": "stdout",
     "output_type": "stream",
     "text": [
      "the path example1.txt does not exists\n"
     ]
    }
   ],
   "source": [
    "path='example1.txt'\n",
    "if os.path.exists(path):\n",
    "    print(f\"The path {path} exists\")\n",
    "else:\n",
    "    print(f\"the path {path} does not exists\")"
   ]
  },
  {
   "cell_type": "code",
   "execution_count": null,
   "id": "7fa81937",
   "metadata": {},
   "outputs": [
    {
     "name": "stdout",
     "output_type": "stream",
     "text": [
      "The file example.txt exists \n"
     ]
    }
   ],
   "source": [
    "## checking if a Path is a file or directory\n",
    "import os\n",
    "\n",
    "path='example.txt'\n",
    "if os.path.isfile(path):\n",
    "    print(f\"The file {path} exists \")\n",
    "elif os.path.isdir(path):\n",
    "    print(f\"The directory {path} exists\")\n",
    "\n",
    "else:\n",
    "    print(f\"The path {path} is neither file or directory\")"
   ]
  },
  {
   "cell_type": "code",
   "execution_count": 34,
   "id": "d1b8f134",
   "metadata": {},
   "outputs": [
    {
     "name": "stdout",
     "output_type": "stream",
     "text": [
      "d:\\Data\\Research\\NLPDS\\PythonBasics\\fileoperations\\example.txt\n"
     ]
    }
   ],
   "source": [
    "## Getting the absolute path\n",
    "relative_path='example.txt'\n",
    "absolute_path=os.path.abspath(relative_path)\n",
    "print(absolute_path)"
   ]
  }
 ],
 "metadata": {
  "kernelspec": {
   "display_name": "myenv",
   "language": "python",
   "name": "myenv"
  },
  "language_info": {
   "codemirror_mode": {
    "name": "ipython",
    "version": 3
   },
   "file_extension": ".py",
   "mimetype": "text/x-python",
   "name": "python",
   "nbconvert_exporter": "python",
   "pygments_lexer": "ipython3",
   "version": "3.12.9"
  }
 },
 "nbformat": 4,
 "nbformat_minor": 5
}
