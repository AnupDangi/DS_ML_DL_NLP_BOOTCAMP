{
 "cells": [
  {
   "cell_type": "code",
   "execution_count": null,
   "id": "938cd53d",
   "metadata": {},
   "outputs": [],
   "source": [
    "## Seaborn is a Python Visualization library based on Matplotlib that provides a high-level interface for drawing attractive and informative "
   ]
  }
 ],
 "metadata": {
  "language_info": {
   "name": "python"
  }
 },
 "nbformat": 4,
 "nbformat_minor": 5
}
