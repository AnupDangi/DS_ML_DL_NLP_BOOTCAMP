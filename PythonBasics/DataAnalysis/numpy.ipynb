{
 "cells": [
  {
   "cell_type": "markdown",
   "id": "440c25f0",
   "metadata": {},
   "source": [
    "Numpy is a fundamental library for scientific computing in Python.It provides support for arrays and matrices,along with a collection of mathematical functions to operate on these data structures. In this lession,we will cover the basics of Numpy,focusing on arrays and vectorized operators.\n"
   ]
  },
  {
   "cell_type": "code",
   "execution_count": 5,
   "id": "464b5a99",
   "metadata": {},
   "outputs": [
    {
     "name": "stdout",
     "output_type": "stream",
     "text": [
      "[1 2 3 4]\n",
      "['1' '4' 'array']\n",
      "{1: 'anup', 2: 'sudip'}\n",
      "<class 'numpy.ndarray'>\n",
      "<class 'numpy.ndarray'>\n"
     ]
    }
   ],
   "source": [
    "import numpy as np\n",
    "\n",
    "## Create a 1D array with numpy\n",
    "data=np.array([1,2,3,4]) ## inside this we can give list ,tuple or dict\n",
    "datatuple=np.array((1,4,'array'))\n",
    "datadict=np.array({1:'anup',2:'sudip'})\n",
    "print(data)\n",
    "print(datatuple)\n",
    "print(datadict)\n",
    "print(type(data))\n",
    "print(type(datatuple))\n"
   ]
  },
  {
   "cell_type": "code",
   "execution_count": 17,
   "id": "90f0ab34",
   "metadata": {},
   "outputs": [
    {
     "name": "stdout",
     "output_type": "stream",
     "text": [
      "(5,)\n"
     ]
    },
    {
     "data": {
      "text/plain": [
       "array([[1, 2, 3, 4, 5]])"
      ]
     },
     "execution_count": 17,
     "metadata": {},
     "output_type": "execute_result"
    }
   ],
   "source": [
    "arr=np.array([1,2,3,4,5])\n",
    "print(arr.shape)\n",
    "arr.reshape(1,5) ## 1 row and 5 columns "
   ]
  },
  {
   "cell_type": "code",
   "execution_count": 14,
   "id": "42b532bd",
   "metadata": {},
   "outputs": [
    {
     "data": {
      "text/plain": [
       "array([[1, 2],\n",
       "       [3, 4],\n",
       "       [5, 6]])"
      ]
     },
     "execution_count": 14,
     "metadata": {},
     "output_type": "execute_result"
    }
   ],
   "source": [
    "arr.reshape(3,2)"
   ]
  },
  {
   "cell_type": "code",
   "execution_count": 19,
   "id": "1fa625de",
   "metadata": {},
   "outputs": [
    {
     "name": "stdout",
     "output_type": "stream",
     "text": [
      "[[1 2 3 4 5]\n",
      " [2 3 4 5 6]]\n",
      "(2, 5)\n"
     ]
    }
   ],
   "source": [
    "## 2-D array\n",
    "arr1=np.array([[1,2,3,4,5],[2,3,4,5,6]])\n",
    "print(arr1)\n",
    "print(arr1.shape)\n"
   ]
  },
  {
   "cell_type": "code",
   "execution_count": 23,
   "id": "0e5f88e5",
   "metadata": {},
   "outputs": [
    {
     "data": {
      "text/plain": [
       "array([[0],\n",
       "       [2],\n",
       "       [4],\n",
       "       [6],\n",
       "       [8]])"
      ]
     },
     "execution_count": 23,
     "metadata": {},
     "output_type": "execute_result"
    }
   ],
   "source": [
    "np.arange(0,10,2).reshape(5,1)  ##first creates array in range with step then reshape based on row and column\n"
   ]
  },
  {
   "cell_type": "code",
   "execution_count": 25,
   "id": "81127968",
   "metadata": {},
   "outputs": [
    {
     "data": {
      "text/plain": [
       "array([[1., 1., 1., 1.],\n",
       "       [1., 1., 1., 1.],\n",
       "       [1., 1., 1., 1.]])"
      ]
     },
     "execution_count": 25,
     "metadata": {},
     "output_type": "execute_result"
    }
   ],
   "source": [
    "np.ones((3,4)) ## initialize the array with ones"
   ]
  },
  {
   "cell_type": "code",
   "execution_count": 30,
   "id": "b2c39a8e",
   "metadata": {},
   "outputs": [
    {
     "data": {
      "text/plain": [
       "(1, 5)"
      ]
     },
     "execution_count": 30,
     "metadata": {},
     "output_type": "execute_result"
    }
   ],
   "source": [
    "zeroarr=np.zeros((1,5))\n",
    "zeroarr.shape"
   ]
  },
  {
   "cell_type": "code",
   "execution_count": 31,
   "id": "24f717b2",
   "metadata": {},
   "outputs": [
    {
     "data": {
      "text/plain": [
       "array([[1., 0., 0.],\n",
       "       [0., 1., 0.],\n",
       "       [0., 0., 1.]])"
      ]
     },
     "execution_count": 31,
     "metadata": {},
     "output_type": "execute_result"
    }
   ],
   "source": [
    "## identity matrix\n",
    "\n",
    "np.eye(3)"
   ]
  },
  {
   "cell_type": "code",
   "execution_count": 35,
   "id": "f83bd619",
   "metadata": {},
   "outputs": [
    {
     "name": "stdout",
     "output_type": "stream",
     "text": [
      "2\n",
      "int64\n",
      "6\n",
      "8\n",
      "(2, 3)\n"
     ]
    }
   ],
   "source": [
    "arr2=np.array([[1,2,3],[4,5,6]])\n",
    "\n",
    "## printing attributes of arr\n",
    "print(arr2.ndim) ## dimension \n",
    "print(arr2.dtype) ## data type\n",
    "print(arr2.size) ## size of array len \n",
    "print(arr2.itemsize) ## total array item size \n",
    "print(arr2.shape) ## shape of arrray "
   ]
  },
  {
   "cell_type": "code",
   "execution_count": 36,
   "id": "217db6cc",
   "metadata": {},
   "outputs": [
    {
     "name": "stdout",
     "output_type": "stream",
     "text": [
      "Addition : [ 3  5  7 10 13]\n",
      "Addition : [-1 -1 -1 -2 -3]\n",
      "Multiplication:  [ 2  6 12 24 40]\n",
      "Division:  [0.5        0.66666667 0.75       0.66666667 0.625     ]\n"
     ]
    }
   ],
   "source": [
    "## numpy vectorized Operation\n",
    "\n",
    "arr1=np.array([1,2,3,4,5])\n",
    "arr2=np.array([2,3,4,6,8])\n",
    "\n",
    "print(\"Addition :\",arr1+arr2)\n",
    "print(\"Addition :\",arr1-arr2)\n",
    "print(\"Multiplication: \",arr1*arr2)\n",
    "print(\"Division: \",arr1/arr2)\n"
   ]
  },
  {
   "cell_type": "code",
   "execution_count": 37,
   "id": "7990a09e",
   "metadata": {},
   "outputs": [
    {
     "name": "stdout",
     "output_type": "stream",
     "text": [
      "[1.41421356 1.73205081 2.         2.23606798 2.44948974]\n",
      "[  7.3890561   20.08553692  54.59815003 148.4131591  403.42879349]\n",
      "[ 0.90929743  0.14112001 -0.7568025  -0.95892427 -0.2794155 ]\n",
      "[0.69314718 1.09861229 1.38629436 1.60943791 1.79175947]\n"
     ]
    }
   ],
   "source": [
    "## Universal function\n",
    "\n",
    "arr=np.array([2,3,4,5,6])\n",
    "\n",
    "## square root\n",
    "print(np.sqrt(arr))\n",
    "\n",
    "## EXponential \n",
    "print(np.exp(arr))\n",
    "\n",
    "## sin\n",
    "print(np.sin(arr))\n",
    "\n",
    "## log\n",
    "print(np.log(arr))\n"
   ]
  },
  {
   "cell_type": "code",
   "execution_count": 46,
   "id": "5f01670a",
   "metadata": {},
   "outputs": [
    {
     "name": "stdout",
     "output_type": "stream",
     "text": [
      "Array :\n",
      "  [[ 1  2  3  4]\n",
      " [ 5  6  7  8]\n",
      " [ 9 10 11 12]]\n",
      "[1 2 3 4]\n"
     ]
    }
   ],
   "source": [
    "## Array Slicing and Indexing\n",
    "\n",
    "arr1=np.array([[1,2,3,4],[5,6,7,8],[9,10,11,12]])\n",
    "print(\"Array :\\n \",arr1)\n",
    "\n",
    "get_rows=arr1.shape[0]\n",
    "get_col=arr1.shape[1]\n",
    "\n",
    "get1st_row=arr1[0][:]\n",
    "print(get1st_row)\n",
    "\n"
   ]
  },
  {
   "cell_type": "code",
   "execution_count": 47,
   "id": "0755139e",
   "metadata": {},
   "outputs": [
    {
     "data": {
      "text/plain": [
       "array([[ 5,  6,  7,  8],\n",
       "       [ 9, 10, 11, 12]])"
      ]
     },
     "execution_count": 47,
     "metadata": {},
     "output_type": "execute_result"
    }
   ],
   "source": [
    "arr1[1:]"
   ]
  },
  {
   "cell_type": "code",
   "execution_count": 51,
   "id": "49dcf67e",
   "metadata": {},
   "outputs": [
    {
     "data": {
      "text/plain": [
       "array([[ 7,  8],\n",
       "       [11, 12]])"
      ]
     },
     "execution_count": 51,
     "metadata": {},
     "output_type": "execute_result"
    }
   ],
   "source": [
    "arr1[1:,2:]"
   ]
  },
  {
   "cell_type": "code",
   "execution_count": null,
   "id": "5854cecc",
   "metadata": {},
   "outputs": [],
   "source": []
  },
  {
   "cell_type": "code",
   "execution_count": 65,
   "id": "d19d8e2b",
   "metadata": {},
   "outputs": [
    {
     "data": {
      "text/plain": [
       "array([[1, 2],\n",
       "       [5, 6]])"
      ]
     },
     "execution_count": 65,
     "metadata": {},
     "output_type": "execute_result"
    }
   ],
   "source": [
    "arr1[0:2,:2]"
   ]
  },
  {
   "cell_type": "code",
   "execution_count": 67,
   "id": "28ce2bd9",
   "metadata": {},
   "outputs": [
    {
     "data": {
      "text/plain": [
       "array([[ 7,  8],\n",
       "       [11, 12]])"
      ]
     },
     "execution_count": 67,
     "metadata": {},
     "output_type": "execute_result"
    }
   ],
   "source": [
    "arr1[1:,2:]"
   ]
  },
  {
   "cell_type": "code",
   "execution_count": 69,
   "id": "4f9e859d",
   "metadata": {},
   "outputs": [
    {
     "name": "stdout",
     "output_type": "stream",
     "text": [
      "[[100   2   3   4]\n",
      " [  5   6   7   8]\n",
      " [  9  10  11  12]]\n"
     ]
    }
   ],
   "source": [
    "## modify array elements\n",
    "arr1[0,0]=100\n",
    "print(arr1)"
   ]
  },
  {
   "cell_type": "code",
   "execution_count": null,
   "id": "eacddd82",
   "metadata": {},
   "outputs": [
    {
     "name": "stdout",
     "output_type": "stream",
     "text": [
      "[[100   2   3   4]\n",
      " [100 100 100 100]\n",
      " [100 100 100 100]]\n"
     ]
    }
   ],
   "source": [
    "arr1[1:]=100\n",
    "print(arr1)"
   ]
  },
  {
   "cell_type": "code",
   "execution_count": 71,
   "id": "6870f32e",
   "metadata": {},
   "outputs": [
    {
     "name": "stdout",
     "output_type": "stream",
     "text": [
      "Normalized Data:  [-1.41421356 -0.70710678  0.          0.70710678  1.41421356]\n"
     ]
    }
   ],
   "source": [
    "## Statistical concepts --Normalization\n",
    "\n",
    "## change the data to have a mean of 0 and standard deviation of 1\n",
    "\n",
    "\n",
    "data=np.array([1,2,3,4,5])\n",
    "\n",
    "## calculate mean and standard deviation\n",
    "mean=np.mean(data)\n",
    "std_dev=np.std(data)\n",
    "\n",
    "normalized_data=(data-mean)/std_dev\n",
    "\n",
    "print(\"Normalized Data: \",normalized_data)"
   ]
  },
  {
   "cell_type": "code",
   "execution_count": 78,
   "id": "c3c805c1",
   "metadata": {},
   "outputs": [
    {
     "data": {
      "text/plain": [
       "array([6, 7])"
      ]
     },
     "execution_count": 78,
     "metadata": {},
     "output_type": "execute_result"
    }
   ],
   "source": [
    "## Logical Operation\n",
    "\n",
    "data=np.array([1,2,3,4,5,6,7,8,9])\n",
    "\n",
    "data[(data>5) & (data<8)] "
   ]
  },
  {
   "cell_type": "code",
   "execution_count": null,
   "id": "8f6b16f2",
   "metadata": {},
   "outputs": [],
   "source": []
  }
 ],
 "metadata": {
  "kernelspec": {
   "display_name": "myenv",
   "language": "python",
   "name": "myenv"
  },
  "language_info": {
   "codemirror_mode": {
    "name": "ipython",
    "version": 3
   },
   "file_extension": ".py",
   "mimetype": "text/x-python",
   "name": "python",
   "nbconvert_exporter": "python",
   "pygments_lexer": "ipython3",
   "version": "3.12.9"
  }
 },
 "nbformat": 4,
 "nbformat_minor": 5
}
