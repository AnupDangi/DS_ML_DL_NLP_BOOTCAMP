{
 "cells": [
  {
   "cell_type": "markdown",
   "id": "213c6a0b",
   "metadata": {},
   "source": [
    "Memory Management in Python involes a combination of automatic garbage collection,refrence counting,and various internal optimizations to efficiently manage and deallocations.\n",
    "Understanding these mechanisms can help developers write more efficient and robust applications.\n",
    "\n",
    "\n",
    "1. Key Concepts in Python Memory Management\n",
    "2. Memory Allocation and Deallocation\n",
    "3. Reference Counting\n",
    "4. Garbage Collection\n",
    "5. The gc Module\n",
    "6. Memory Management Best Practices"
   ]
  },
  {
   "cell_type": "markdown",
   "id": "f2145b2e",
   "metadata": {},
   "source": [
    "### Reference Counting\n",
    "\n",
    "Reference counting is the primary method Python uses to manage memory.Each object in Python maintains a count of references pointing to it. When the refrence count drops to zero,the memory occupied by the object is deallocated"
   ]
  },
  {
   "cell_type": "code",
   "execution_count": null,
   "id": "0736bcc6",
   "metadata": {},
   "outputs": [
    {
     "name": "stdout",
     "output_type": "stream",
     "text": [
      "2\n"
     ]
    }
   ],
   "source": [
    "import sys\n",
    "a=[]\n",
    "\n",
    "## 2 is because of one reference is probably coming from 'a' and one from getrefcount()\n",
    "print(sys.getrefcount(a))"
   ]
  },
  {
   "cell_type": "code",
   "execution_count": 10,
   "id": "dd1cb389",
   "metadata": {},
   "outputs": [
    {
     "name": "stdout",
     "output_type": "stream",
     "text": [
      "3\n"
     ]
    }
   ],
   "source": [
    "b=a\n",
    "print(sys.getrefcount(a))"
   ]
  },
  {
   "cell_type": "code",
   "execution_count": 11,
   "id": "408a12ab",
   "metadata": {},
   "outputs": [
    {
     "name": "stdout",
     "output_type": "stream",
     "text": [
      "2\n"
     ]
    }
   ],
   "source": [
    "del b\n",
    "print(sys.getrefcount(a))\n"
   ]
  },
  {
   "cell_type": "markdown",
   "id": "f269f5c9",
   "metadata": {},
   "source": [
    "### Garbage Collection \n",
    "\n",
    "Python includes  a cyclic garbage collector to handle reference cycles. Reference cycles occur when objects refernce each other, preventing their refernce counts from reaching zero.\n"
   ]
  },
  {
   "cell_type": "code",
   "execution_count": 12,
   "id": "ac094eaf",
   "metadata": {},
   "outputs": [],
   "source": [
    "import gc\n",
    "gc.enable()"
   ]
  },
  {
   "cell_type": "code",
   "execution_count": 13,
   "id": "0b15bc9e",
   "metadata": {},
   "outputs": [],
   "source": [
    "gc.disable()"
   ]
  },
  {
   "cell_type": "code",
   "execution_count": 14,
   "id": "e3fc1e3e",
   "metadata": {},
   "outputs": [
    {
     "data": {
      "text/plain": [
       "967"
      ]
     },
     "execution_count": 14,
     "metadata": {},
     "output_type": "execute_result"
    }
   ],
   "source": [
    "gc.collect()"
   ]
  },
  {
   "cell_type": "code",
   "execution_count": 16,
   "id": "3e03e6fe",
   "metadata": {},
   "outputs": [
    {
     "name": "stdout",
     "output_type": "stream",
     "text": [
      "[{'collections': 275, 'collected': 1699, 'uncollectable': 0}, {'collections': 25, 'collected': 4701, 'uncollectable': 0}, {'collections': 3, 'collected': 1127, 'uncollectable': 0}]\n"
     ]
    }
   ],
   "source": [
    "## Get garbage collection stats\n",
    "print(gc.get_stats())"
   ]
  },
  {
   "cell_type": "code",
   "execution_count": 17,
   "id": "a39f36ee",
   "metadata": {},
   "outputs": [
    {
     "name": "stdout",
     "output_type": "stream",
     "text": [
      "[]\n"
     ]
    }
   ],
   "source": [
    "### get unreachable objects\n",
    "\n",
    "print(gc.garbage)\n"
   ]
  },
  {
   "cell_type": "markdown",
   "id": "f72acbee",
   "metadata": {},
   "source": [
    "Memory Management Best Practices\n",
    "\n",
    "1. Use local variables: Local variables have a shorter lifespan and are freed sonner than global variables.\n",
    "2. Avoid Circular References: Circular references can lead to memroy leaks if not properly managed.\n",
    "3. Use generators: Generators produce items one at a time and only keep one item in memory at a time, making them memory efficent.\n",
    "4. Explicitly Delete Objects: Use the del statements to delete variabeles and objects explicitly.\n",
    "5. Profile Memory Usage: Use memory profiling tools like tracemalloc and memory_profiler to identify memrory leaks and optimize memory usage."
   ]
  },
  {
   "cell_type": "code",
   "execution_count": 19,
   "id": "b1abe0af",
   "metadata": {},
   "outputs": [
    {
     "name": "stdout",
     "output_type": "stream",
     "text": [
      "Object obj1 created\n",
      "Object obj2 created\n",
      "Object obj1 deleted\n",
      "Object obj2 deleted\n",
      "Object obj1 deleted\n",
      "Object obj2 deleted\n"
     ]
    },
    {
     "data": {
      "text/plain": [
       "498"
      ]
     },
     "execution_count": 19,
     "metadata": {},
     "output_type": "execute_result"
    }
   ],
   "source": [
    "import gc \n",
    "\n",
    "class MyObject: \n",
    "    def __init__(self,name):\n",
    "        self.name=name\n",
    "        print(f\"Object {self.name} created\")\n",
    "    \n",
    "    def __del__(self):\n",
    "        print(f\"Object {self.name} deleted\")\n",
    "        \n",
    "\n",
    "\n",
    "## Created circular reference\n",
    "obj1=MyObject(\"obj1\")\n",
    "obj2=MyObject(\"obj2\")\n",
    "obj1.ref=obj2\n",
    "obj2.ref=obj1\n",
    "\n",
    "\n",
    "del obj1\n",
    "del obj2\n",
    "\n",
    "## Manually trigger garbage collection\n",
    "gc.collect()"
   ]
  },
  {
   "cell_type": "code",
   "execution_count": 20,
   "id": "c10e69bd",
   "metadata": {},
   "outputs": [
    {
     "name": "stdout",
     "output_type": "stream",
     "text": [
      "Garbage has no atribute collected []\n"
     ]
    }
   ],
   "source": [
    "print(f\"Garbage has no atribute collected {gc.garbage}\")"
   ]
  },
  {
   "cell_type": "code",
   "execution_count": 21,
   "id": "3ff3ad0f",
   "metadata": {},
   "outputs": [
    {
     "name": "stdout",
     "output_type": "stream",
     "text": [
      "0\n",
      "1\n",
      "2\n",
      "3\n",
      "4\n",
      "5\n",
      "6\n",
      "7\n",
      "8\n",
      "9\n",
      "10\n",
      "11\n"
     ]
    }
   ],
   "source": [
    "## Generators for Memory Efficiency\n",
    "## Generators allow you to produce items one at a time, using memory efficiently by only keeping one item at a time\n",
    "\n",
    "def generate_numbers(n):\n",
    "    for i in range(n):\n",
    "        yield i\n",
    "        \n",
    "\n",
    "\n",
    "## using the geenrators\n",
    "for num in generate_numbers(10000):\n",
    "    print(num)\n",
    "    if num>10:\n",
    "        break"
   ]
  },
  {
   "cell_type": "code",
   "execution_count": 24,
   "id": "85ecfaca",
   "metadata": {},
   "outputs": [
    {
     "name": "stdout",
     "output_type": "stream",
     "text": [
      "Top stats tops \n",
      "c:\\Users\\anupd\\anaconda3\\envs\\myenv\\Lib\\selectors.py:314: size=144 KiB, count=3, average=48.0 KiB\n",
      "c:\\Users\\anupd\\anaconda3\\envs\\myenv\\Lib\\site-packages\\IPython\\core\\compilerop.py:86: size=12.7 KiB, count=123, average=106 B\n",
      "c:\\Users\\anupd\\anaconda3\\envs\\myenv\\Lib\\json\\decoder.py:354: size=3831 B, count=33, average=116 B\n",
      "c:\\Users\\anupd\\anaconda3\\envs\\myenv\\Lib\\site-packages\\IPython\\core\\compilerop.py:174: size=3504 B, count=34, average=103 B\n",
      "c:\\Users\\anupd\\anaconda3\\envs\\myenv\\Lib\\codeop.py:126: size=2704 B, count=33, average=82 B\n",
      "c:\\Users\\anupd\\anaconda3\\envs\\myenv\\Lib\\site-packages\\zmq\\sugar\\attrsettr.py:45: size=1645 B, count=35, average=47 B\n",
      "c:\\Users\\anupd\\anaconda3\\envs\\myenv\\Lib\\threading.py:293: size=1520 B, count=4, average=380 B\n",
      "c:\\Users\\anupd\\anaconda3\\envs\\myenv\\Lib\\site-packages\\jupyter_client\\session.py:1057: size=1207 B, count=6, average=201 B\n",
      "c:\\Users\\anupd\\anaconda3\\envs\\myenv\\Lib\\contextlib.py:105: size=1064 B, count=11, average=97 B\n",
      "c:\\Users\\anupd\\anaconda3\\envs\\myenv\\Lib\\site-packages\\zmq\\sugar\\socket.py:805: size=1056 B, count=6, average=176 B\n"
     ]
    }
   ],
   "source": [
    "## Profiling Memory Usage with tracemalloc\n",
    "\n",
    "import tracemalloc\n",
    "\n",
    "def create_list():\n",
    "    return [i for i in range(1000)]\n",
    "\n",
    "def main():\n",
    "    tracemalloc.start()\n",
    "    \n",
    "    create_list()\n",
    "    \n",
    "    snapshot=tracemalloc.take_snapshot()\n",
    "    top_stats=snapshot.statistics('lineno')\n",
    "    \n",
    "    print(f\"Top stats tops \")\n",
    "    for stats in top_stats[:10]:\n",
    "        print(stats)\n",
    "        \n",
    "        \n",
    "main()"
   ]
  }
 ],
 "metadata": {
  "kernelspec": {
   "display_name": "myenv",
   "language": "python",
   "name": "myenv"
  },
  "language_info": {
   "codemirror_mode": {
    "name": "ipython",
    "version": 3
   },
   "file_extension": ".py",
   "mimetype": "text/x-python",
   "name": "python",
   "nbconvert_exporter": "python",
   "pygments_lexer": "ipython3",
   "version": "3.12.9"
  }
 },
 "nbformat": 4,
 "nbformat_minor": 5
}
