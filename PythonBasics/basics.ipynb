{
 "cells": [
  {
   "cell_type": "markdown",
   "id": "7ccf0556",
   "metadata": {},
   "source": [
    "## Python Example\n"
   ]
  },
  {
   "cell_type": "code",
   "execution_count": 1,
   "id": "66f5b06c",
   "metadata": {},
   "outputs": [
    {
     "data": {
      "text/plain": [
       "2"
      ]
     },
     "execution_count": 1,
     "metadata": {},
     "output_type": "execute_result"
    }
   ],
   "source": [
    "1+1"
   ]
  },
  {
   "cell_type": "code",
   "execution_count": null,
   "id": "94760833",
   "metadata": {},
   "outputs": [
    {
     "name": "stdout",
     "output_type": "stream",
     "text": [
      "hello world\n"
     ]
    }
   ],
   "source": [
    "print(\"hello world\")"
   ]
  },
  {
   "cell_type": "markdown",
   "id": "62522e16",
   "metadata": {},
   "source": [
    "Syntax and Semantics\n",
    "rules and meaning"
   ]
  },
  {
   "cell_type": "code",
   "execution_count": 1,
   "id": "5820e1da",
   "metadata": {},
   "outputs": [
    {
     "name": "stdout",
     "output_type": "stream",
     "text": [
      "<class 'int'>\n",
      "<class 'str'>\n"
     ]
    }
   ],
   "source": [
    "## Basic Syntax Rules\n",
    "\n",
    "## Type Inference\n",
    "variable=10\n",
    "print(type(variable))\n",
    "variable=\"hello\"\n",
    "print(type(variable))"
   ]
  },
  {
   "cell_type": "code",
   "execution_count": 3,
   "id": "bcaff3ce",
   "metadata": {},
   "outputs": [
    {
     "data": {
      "text/plain": [
       "float"
      ]
     },
     "execution_count": 3,
     "metadata": {},
     "output_type": "execute_result"
    }
   ],
   "source": [
    "## Variables \n",
    "## Type Conversion\n",
    "height=1.22\n",
    "type(height)"
   ]
  },
  {
   "cell_type": "code",
   "execution_count": 4,
   "id": "2596d392",
   "metadata": {},
   "outputs": [
    {
     "data": {
      "text/plain": [
       "1"
      ]
     },
     "execution_count": 4,
     "metadata": {},
     "output_type": "execute_result"
    }
   ],
   "source": [
    "int(height)"
   ]
  },
  {
   "cell_type": "code",
   "execution_count": 5,
   "id": "e75c4a14",
   "metadata": {},
   "outputs": [
    {
     "name": "stdout",
     "output_type": "stream",
     "text": [
      "10 <class 'int'>\n",
      "hello <class 'str'>\n"
     ]
    }
   ],
   "source": [
    "## dynamic typing\n",
    "var=10\n",
    "print(var,type(var))\n",
    "var=\"hello\"\n",
    "print(var,type(var))"
   ]
  },
  {
   "cell_type": "code",
   "execution_count": 6,
   "id": "0c5f6f9f",
   "metadata": {},
   "outputs": [
    {
     "name": "stdout",
     "output_type": "stream",
     "text": [
      "2 <class 'str'>\n"
     ]
    }
   ],
   "source": [
    "## Input \n",
    "age=input(\"Enter your age\")\n",
    "print(age,type(age))"
   ]
  },
  {
   "cell_type": "code",
   "execution_count": 7,
   "id": "7b425b49",
   "metadata": {},
   "outputs": [
    {
     "name": "stdout",
     "output_type": "stream",
     "text": [
      "222 <class 'int'>\n"
     ]
    }
   ],
   "source": [
    "age=int(input(\"Enter your age\"))\n",
    "print(age,type(age))"
   ]
  },
  {
   "cell_type": "code",
   "execution_count": 8,
   "id": "bbbdf044",
   "metadata": {},
   "outputs": [
    {
     "name": "stdout",
     "output_type": "stream",
     "text": [
      "Sum is 3\n",
      "Difference is -1\n",
      "Product is 2\n",
      "Quotient is 0.5\n"
     ]
    }
   ],
   "source": [
    "## Simple Calculator\n",
    "\n",
    "num1=int(input(\"Enter first number\"))\n",
    "num2=int(input(\"Enter second number\"))\n",
    "\n",
    "print(\"Sum is\",num1+num2)\n",
    "print(\"Difference is\",num1-num2)\n",
    "print(\"Product is\",num1*num2)\n",
    "print(\"Quotient is\",num1/num2)"
   ]
  },
  {
   "cell_type": "markdown",
   "id": "75769a55",
   "metadata": {},
   "source": [
    "## Datatypes \n",
    "## Integers\n",
    "## Floats\n",
    "## Strings\n",
    "## Booleans"
   ]
  },
  {
   "cell_type": "code",
   "execution_count": 12,
   "id": "08ba33e8",
   "metadata": {},
   "outputs": [
    {
     "name": "stdout",
     "output_type": "stream",
     "text": [
      "<class 'int'>\n",
      "<class 'float'>\n",
      "<class 'str'>\n",
      "<class 'bool'>\n"
     ]
    }
   ],
   "source": [
    "## Integer Example \n",
    "age=35\n",
    "height=1.22\n",
    "name=\"anup\"\n",
    "istrue=True\n",
    "print(type(age))\n",
    "print(type(height))\n",
    "print(type(name))\n",
    "print(type(istrue))"
   ]
  },
  {
   "cell_type": "markdown",
   "id": "d06e46b1",
   "metadata": {},
   "source": [
    "## Advanced DataTypes\n",
    "## List\n",
    "## Tuples\n",
    "## Sets\n",
    "## Dictionaries\n"
   ]
  },
  {
   "cell_type": "code",
   "execution_count": 8,
   "id": "fb39804a",
   "metadata": {},
   "outputs": [
    {
     "data": {
      "text/plain": [
       "True"
      ]
     },
     "execution_count": 8,
     "metadata": {},
     "output_type": "execute_result"
    }
   ],
   "source": [
    "## Opeartors \n",
    "## Arithmetic +,-,*,/,%,**\n",
    "## Comparision ==,!=,>,<,>=,<=\n",
    "## Logical and,or,not\n",
    "a=1\n",
    "b=2\n",
    "a==b\n",
    "a<=b\n",
    "a>=b\n",
    "not False\n",
    "a and b <=3"
   ]
  },
  {
   "cell_type": "code",
   "execution_count": 9,
   "id": "03c9b994",
   "metadata": {},
   "outputs": [
    {
     "name": "stdout",
     "output_type": "stream",
     "text": [
      "You are eligible for voting\n"
     ]
    }
   ],
   "source": [
    "## conditional Statements\n",
    "## 1. if statement\n",
    "## 2. if else statement\n",
    "## 3. if elif else statement\n",
    "age=int(input(\"Enter your age\"))\n",
    "\n",
    "if age>=18:\n",
    "    print(\"You are eligible for voting\")\n",
    "else:\n",
    "    print(\"You are not eligible for voting\")"
   ]
  },
  {
   "cell_type": "code",
   "execution_count": 1,
   "id": "f7c3bd75",
   "metadata": {},
   "outputs": [
    {
     "name": "stdout",
     "output_type": "stream",
     "text": [
      "You are eligible for voting\n"
     ]
    }
   ],
   "source": [
    "## else if\n",
    "## the else stetement is executed when the condition is false\n",
    "age=int(input(\"Enter your age\"))\n",
    "\n",
    "if age<18:\n",
    "    print(\"You are not eligible for voting\")\n",
    "elif age>18 and age<60:\n",
    "    print(\"You are eligible for voting\")\n",
    "else:\n",
    "    print(\"You are not eligible for voting\")\n",
    "\n",
    "    \n"
   ]
  },
  {
   "cell_type": "code",
   "execution_count": null,
   "id": "0d29b79b",
   "metadata": {},
   "outputs": [
    {
     "name": "stdout",
     "output_type": "stream",
     "text": [
      "The number is positive\n",
      "The number is even\n"
     ]
    }
   ],
   "source": [
    "## Nested Conditional Statements\n",
    "\n",
    "## number ,even ,odd ,negative\n",
    "\n",
    "num=int(input(\"Enter the number\"))\n",
    "\n",
    "if num>0:\n",
    "    print(\"The number is positive\")\n",
    "    if num%2==0:\n",
    "        print(\"The number is even\")\n",
    "    else:\n",
    "        print(\"The number is odd\")\n",
    "else:\n",
    "    print(\"The number is zero or  negative\")"
   ]
  },
  {
   "cell_type": "code",
   "execution_count": 5,
   "id": "517da957",
   "metadata": {},
   "outputs": [
    {
     "name": "stdout",
     "output_type": "stream",
     "text": [
      "2024 is a leap year\n"
     ]
    }
   ],
   "source": [
    "## eg\n",
    "year=int(input(\"Enter the year\"))\n",
    "\n",
    "if(year%4==0):\n",
    "    if(year%100==0):\n",
    "        if(year%400==0):\n",
    "            print(f\"{year} is Leap year\")\n",
    "        \n",
    "        else:\n",
    "            print(f\"{year} is not a leap year\")\n",
    "    else:\n",
    "        print(f\"{year} is a leap year\")\n",
    "\n",
    "else:\n",
    "    print(f\"{year} is not a leap year\")\n"
   ]
  }
 ],
 "metadata": {
  "kernelspec": {
   "display_name": "venv",
   "language": "python",
   "name": "python3"
  },
  "language_info": {
   "codemirror_mode": {
    "name": "ipython",
    "version": 3
   },
   "file_extension": ".py",
   "mimetype": "text/x-python",
   "name": "python",
   "nbconvert_exporter": "python",
   "pygments_lexer": "ipython3",
   "version": "3.10.0"
  }
 },
 "nbformat": 4,
 "nbformat_minor": 5
}
